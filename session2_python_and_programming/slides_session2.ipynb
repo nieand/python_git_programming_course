{
 "cells": [
  {
   "cell_type": "markdown",
   "metadata": {
    "slideshow": {
     "slide_type": "skip"
    }
   },
   "source": [
    "(empty cell to avoid selection on first slide)"
   ]
  },
  {
   "cell_type": "markdown",
   "metadata": {
    "slideshow": {
     "slide_type": "slide"
    }
   },
   "source": [
    "# How to make code beautiful\n",
    "### Python beyond basics\n",
    "\n",
    "<br><br><br><br><br><br>\n",
    "<div style=\"font-size:0.8em; color: #555\">2019-04-03 Session 2\n",
    "<span style=\"float:right\">Peter Regner</span>\n",
    "</div>"
   ]
  },
  {
   "cell_type": "markdown",
   "metadata": {
    "slideshow": {
     "slide_type": "subslide"
    }
   },
   "source": [
    "# How to make code beautiful\n",
    "\n",
    "**Disclaimers:**"
   ]
  },
  {
   "cell_type": "markdown",
   "metadata": {
    "slideshow": {
     "slide_type": "fragment"
    }
   },
   "source": [
    "- based on experience, not the full truth"
   ]
  },
  {
   "cell_type": "markdown",
   "metadata": {
    "slideshow": {
     "slide_type": "fragment"
    }
   },
   "source": [
    "- Python 3!  forget Python 2 (except some exotic libraries)"
   ]
  },
  {
   "cell_type": "markdown",
   "metadata": {
    "slideshow": {
     "slide_type": "fragment"
    }
   },
   "source": [
    "- no Windows questions please, Linux only ;)"
   ]
  },
  {
   "cell_type": "markdown",
   "metadata": {
    "slideshow": {
     "slide_type": "subslide"
    }
   },
   "source": [
    "# How to make code beautiful"
   ]
  },
  {
   "cell_type": "markdown",
   "metadata": {},
   "source": [
    "**Goals:**\n",
    "\n",
    "- a bit of general blabla about programming\n",
    "- point at specific features and gotchas of Python\n",
    "- some important tips, tricks and tools"
   ]
  },
  {
   "cell_type": "markdown",
   "metadata": {
    "slideshow": {
     "slide_type": "slide"
    }
   },
   "source": [
    "Questions?\n",
    "-----------"
   ]
  },
  {
   "cell_type": "markdown",
   "metadata": {
    "slideshow": {
     "slide_type": "slide"
    }
   },
   "source": [
    "# What is Beautiful Code?"
   ]
  },
  {
   "cell_type": "markdown",
   "metadata": {
    "slideshow": {
     "slide_type": "fragment"
    }
   },
   "source": [
    "<img src=\"images/beauty-google-search1.png\" style=\"width:800px\">\n"
   ]
  },
  {
   "cell_type": "markdown",
   "metadata": {
    "slideshow": {
     "slide_type": "slide"
    }
   },
   "source": [
    "# What is Beautiful Code?"
   ]
  },
  {
   "cell_type": "markdown",
   "metadata": {
    "slideshow": {
     "slide_type": "-"
    }
   },
   "source": [
    "<img src=\"images/beauty-google-search2.png\" style=\"width:800px\">"
   ]
  },
  {
   "cell_type": "markdown",
   "metadata": {
    "slideshow": {
     "slide_type": "notes"
    }
   },
   "source": [
    "BTW Google's AI puts \"nature\" as first keyword, but the third \"makeup\" seems to be more relevant for selecting the pictures shown by default."
   ]
  },
  {
   "cell_type": "markdown",
   "metadata": {
    "slideshow": {
     "slide_type": "subslide"
    }
   },
   "source": [
    "# What is Beautiful Code?"
   ]
  },
  {
   "cell_type": "markdown",
   "metadata": {
    "slideshow": {
     "slide_type": "fragment"
    }
   },
   "source": [
    "> **Beauty** is a [...] characteristic of [...] idea [...], that provides a perceptual experience of\n",
    "> **pleasure** or **satisfaction**."
   ]
  },
  {
   "cell_type": "markdown",
   "metadata": {
    "slideshow": {
     "slide_type": "fragment"
    }
   },
   "source": [
    "> [...]\n",
    "\n",
    "> An \"ideal beauty\" is an entity which is [...] possesses **features** widely attributed to beauty **in a particular culture**, for perfection.\n"
   ]
  },
  {
   "cell_type": "markdown",
   "metadata": {},
   "source": [
    "<small>Source: https://en.wikipedia.org/wiki/Beauty</small>"
   ]
  },
  {
   "cell_type": "markdown",
   "metadata": {
    "slideshow": {
     "slide_type": "subslide"
    }
   },
   "source": [
    "# What is Beautiful Code?"
   ]
  },
  {
   "cell_type": "code",
   "execution_count": 1,
   "metadata": {
    "slideshow": {
     "slide_type": "fragment"
    },
    "tags": [
     "clear"
    ]
   },
   "outputs": [
    {
     "name": "stdout",
     "output_type": "stream",
     "text": [
      "The Zen of Python, by Tim Peters\n",
      "\n",
      "Beautiful is better than ugly.\n",
      "Explicit is better than implicit.\n",
      "Simple is better than complex.\n",
      "Complex is better than complicated.\n",
      "Flat is better than nested.\n",
      "Sparse is better than dense.\n",
      "Readability counts.\n",
      "Special cases aren't special enough to break the rules.\n",
      "Although practicality beats purity.\n",
      "Errors should never pass silently.\n",
      "Unless explicitly silenced.\n",
      "In the face of ambiguity, refuse the temptation to guess.\n",
      "There should be one-- and preferably only one --obvious way to do it.\n",
      "Although that way may not be obvious at first unless you're Dutch.\n",
      "Now is better than never.\n",
      "Although never is often better than *right* now.\n",
      "If the implementation is hard to explain, it's a bad idea.\n",
      "If the implementation is easy to explain, it may be a good idea.\n",
      "Namespaces are one honking great idea -- let's do more of those!\n"
     ]
    }
   ],
   "source": [
    "import this"
   ]
  },
  {
   "cell_type": "code",
   "execution_count": 2,
   "metadata": {
    "slideshow": {
     "slide_type": "skip"
    }
   },
   "outputs": [],
   "source": [
    "import sys\n",
    "if 'this' in sys.modules:\n",
    "    del sys.modules['this']"
   ]
  },
  {
   "cell_type": "markdown",
   "metadata": {
    "slideshow": {
     "slide_type": "subslide"
    }
   },
   "source": [
    "# What is Beautiful Code?"
   ]
  },
  {
   "cell_type": "code",
   "execution_count": 3,
   "metadata": {
    "slideshow": {
     "slide_type": "fragment"
    }
   },
   "outputs": [],
   "source": [
    "import antigravity"
   ]
  },
  {
   "cell_type": "code",
   "execution_count": 4,
   "metadata": {
    "slideshow": {
     "slide_type": "skip"
    }
   },
   "outputs": [],
   "source": [
    "import sys\n",
    "if 'this' in sys.modules:\n",
    "    del sys.modules['antigravity']"
   ]
  },
  {
   "cell_type": "markdown",
   "metadata": {
    "slideshow": {
     "slide_type": "subslide"
    }
   },
   "source": [
    "# What is Beautiful Code?\n",
    "\n",
    "<br>\n",
    "In the Python universe:\n",
    "\n",
    "<br>\n",
    "\n",
    "<div style=\"font-weight:bolder;font-size:2em; text-align:center;\">\n",
    "beauty = simplicity\n",
    "</div>\n",
    "\n",
    "<br>\n",
    "\n",
    "in terms of clarity, easy to comprehend, easy to write, not complicated"
   ]
  },
  {
   "cell_type": "markdown",
   "metadata": {
    "slideshow": {
     "slide_type": "slide"
    }
   },
   "source": [
    "# What is Code?\n",
    "\n",
    "![Hume to code to Computer](images/image-code-conversation/0_human-code-computer.svg)\n",
    "\n",
    "We want to control the computer. Code is a tool to achieve this."
   ]
  },
  {
   "cell_type": "markdown",
   "metadata": {
    "slideshow": {
     "slide_type": "subslide"
    }
   },
   "source": [
    "# What is Code?\n",
    "\n",
    "![Human to code to Computer and to Human](images/image-code-conversation/1_human-code-both-ways-computer.svg)"
   ]
  },
  {
   "cell_type": "markdown",
   "metadata": {
    "slideshow": {
     "slide_type": "subslide"
    }
   },
   "source": [
    "# What is Code?\n",
    "\n",
    "![Humans to code to Computer](images/image-code-conversation/2_humans-code-computer.svg)"
   ]
  },
  {
   "cell_type": "markdown",
   "metadata": {
    "slideshow": {
     "slide_type": "subslide"
    }
   },
   "source": [
    "# What is Code?\n",
    "\n",
    "![Humans to code to Computer](images/image-code-conversation/3_human-conversation-code-computer.svg)"
   ]
  },
  {
   "cell_type": "markdown",
   "metadata": {
    "slideshow": {
     "slide_type": "subslide"
    }
   },
   "source": [
    "# What is Code?\n",
    "\n",
    "![Humans to code to Computer](images/image-code-conversation/4_human-conversation-you-code-computer.svg)"
   ]
  },
  {
   "cell_type": "markdown",
   "metadata": {
    "slideshow": {
     "slide_type": "subslide"
    }
   },
   "source": [
    "# What is  Code?\n",
    "\n",
    "![Humans to code to Computer](images/image-code-conversation/5_human-conversation-past-self-code-computer.svg)"
   ]
  },
  {
   "cell_type": "markdown",
   "metadata": {
    "slideshow": {
     "slide_type": "subslide"
    }
   },
   "source": [
    "# Why to write Beautiful Code?\n",
    "\n",
    "![Humans to code to Computer](images/image-code-conversation/6_human-no-conersation-code-computer.svg)"
   ]
  },
  {
   "cell_type": "markdown",
   "metadata": {
    "slideshow": {
     "slide_type": "slide"
    }
   },
   "source": [
    "# Why to write Beautiful Code?"
   ]
  },
  {
   "cell_type": "markdown",
   "metadata": {
    "slideshow": {
     "slide_type": "fragment"
    }
   },
   "source": [
    "> \"πάντα χωρεῖ καὶ οὐδὲν μένει\" καὶ \"δὶς ἐς τὸν αὐτὸν ποταμὸν οὐκ ἂν ἐμβαίης\"\n",
    "\n",
    "<div style=\"float:right\">Heraclitus of Ephesus, ~500 BC</div>"
   ]
  },
  {
   "cell_type": "markdown",
   "metadata": {
    "slideshow": {
     "slide_type": "fragment"
    }
   },
   "source": [
    "This roughly translates to:\n",
    "\n",
    "> You cannot talk to your past self about code he or she wrote."
   ]
  },
  {
   "cell_type": "markdown",
   "metadata": {
    "slideshow": {
     "slide_type": "slide"
    }
   },
   "source": [
    "# How to write Betautiful Code? Naming!\n",
    "\n",
    "Do you know what this is doing?"
   ]
  },
  {
   "cell_type": "code",
   "execution_count": 5,
   "metadata": {
    "slideshow": {
     "slide_type": "skip"
    }
   },
   "outputs": [],
   "source": [
    "def ts(*args, **kwargs):\n",
    "    pass\n",
    "\n",
    "def twitter_search(pattern, *, numtweets, retweets, unicode):\n",
    "    print(\"Way better! Great! 👍\")"
   ]
  },
  {
   "cell_type": "code",
   "execution_count": 6,
   "metadata": {},
   "outputs": [
    {
     "name": "stdout",
     "output_type": "stream",
     "text": [
      "Way better! Great! 👍\n"
     ]
    }
   ],
   "source": [
    "twitter_search('obama', numtweets=0, retweets=False, unicode=True)"
   ]
  },
  {
   "cell_type": "code",
   "execution_count": 7,
   "metadata": {
    "slideshow": {
     "slide_type": "fragment"
    }
   },
   "outputs": [
    {
     "name": "stdout",
     "output_type": "stream",
     "text": [
      "Way better! Great! 👍\n"
     ]
    }
   ],
   "source": [
    "twitter_search('obama', numtweets=20, retweets=False, unicode=True)"
   ]
  },
  {
   "cell_type": "markdown",
   "metadata": {
    "slideshow": {
     "slide_type": "fragment"
    }
   },
   "source": [
    "<small>Source: [Beyond PEP 8 - Best practices for beautiful intelligible code - PyCon 2015](https://www.youtube.com/watch?v=wf-BqAjZb8M) by Raymond Hettinger / [@raymondh](https://twitter.com/raymondh)</small>"
   ]
  },
  {
   "cell_type": "markdown",
   "metadata": {
    "slideshow": {
     "slide_type": "subslide"
    }
   },
   "source": [
    "# How to write Betautiful Code? Naming!\n",
    "\n",
    "Part 2."
   ]
  },
  {
   "cell_type": "code",
   "execution_count": 8,
   "metadata": {
    "slideshow": {
     "slide_type": "skip"
    }
   },
   "outputs": [],
   "source": [
    "import numpy as np"
   ]
  },
  {
   "cell_type": "code",
   "execution_count": 9,
   "metadata": {
    "slideshow": {
     "slide_type": "fragment"
    }
   },
   "outputs": [],
   "source": [
    "with open('data-samples/turbine_models.csv', 'r') as f:\n",
    "    turbine_models = f.read().splitlines()"
   ]
  },
  {
   "cell_type": "code",
   "execution_count": 10,
   "metadata": {
    "slideshow": {
     "slide_type": "fragment"
    }
   },
   "outputs": [],
   "source": [
    "model_names = np.unique(turbine_models)"
   ]
  },
  {
   "cell_type": "code",
   "execution_count": 11,
   "metadata": {
    "slideshow": {
     "slide_type": "fragment"
    }
   },
   "outputs": [
    {
     "data": {
      "text/plain": [
       "array(['1.5-70.5', '1.5-77', '1.5SLE', '1.6-100', '1.7-100', '1.7-77',\n",
       "       '1.85-87', '108', '110', '120', '15/50', '15S', '180', '2.0-116',\n",
       "       '2.3-116', '225/30', '23E', '23_160', '250', '250/50', '250KW',\n",
       "       '29-STALL-225', '33M_VS', '40/500', '47-750', '500/41', '54-750',\n",
       "       '56-100', '56-900', '60', '65', '65/13', '65kW', '75/L7', '95T',\n",
       "       'A-1500', 'AOC15/50', 'AOC15_65', 'AW116/3000', 'AW125/3000',\n",
       "       'AW125/3150', 'AW77/1500', 'AW82/1500', 'AWE54-900', 'B62', 'C89',\n",
       "       'C93', 'C96', 'C99', 'CCWE3.60-116', 'D8.2', 'D9.2', 'DW-52-750',\n",
       "       'DW-54-900', 'DW52_900', 'E-3120', 'E3120', 'ECO 86', 'EW 1.5S',\n",
       "       'EW50', 'FD-77-1500', 'FL 1000', 'FL100', 'FL1500', 'FL250',\n",
       "       'FL2500', 'G114-2.0', 'G114-2.1', 'G52-0.8', 'G58-0.85', 'G80',\n",
       "       'G80-2.0', 'G83-2.0', 'G87', 'G87-2.0', 'G90-2.0', 'G97',\n",
       "       'G97-2.0', 'G97-2.1', 'GE1.5-65', 'GE1.5-70.5', 'GE1.5-77',\n",
       "       'GE1.5-82.5', 'GE1.5-87', 'GE1.5-91', 'GE1.5sle', 'GE1.6-100',\n",
       "       'GE1.6-77', 'GE1.6-82.5', 'GE1.6-87', 'GE1.62-100', 'GE1.62-103',\n",
       "       'GE1.62-82.5', 'GE1.62-87', 'GE1.62-91', 'GE1.68-82.5',\n",
       "       'GE1.7-100', 'GE1.7-103', 'GE1.715-103', 'GE1.79-100',\n",
       "       'GE1.85-82.5', 'GE1.85-87', 'GE2.0-116', 'GE2.1-116', 'GE2.3-107',\n",
       "       'GE2.3-116', 'GE2.4-107', 'GE2.5-100', 'GE2.5-116', 'GE2.5-120',\n",
       "       'GE2.85-103', 'GEV MP', 'GEV MP-R', 'GW100', 'GW109', 'GW136',\n",
       "       'GW70', 'GW82', 'GW87', 'H111-2000', 'H93-2000', 'HQ1650',\n",
       "       'HQ2000', 'Haliade 150-6', 'K100', 'KVS33', 'LTW-77', 'M530',\n",
       "       'M700_225', 'MHI600', 'MK1', 'MM92', 'MS2', 'MWT-600-45',\n",
       "       'MWT1000', 'MWT1000A', 'MWT102/2.4', 'MWT57/1.0', 'MWT600',\n",
       "       'MWT62/1.0', 'MWT92/2.4', 'MWT95/2.4', 'Micon 100',\n",
       "       'Multi-power 44', 'N100', 'N1000', 'N1000_59', 'N117', 'N43',\n",
       "       'N54', 'N54/1000', 'N60', 'N90', 'NM-19', 'NM44', 'NM48',\n",
       "       'NM48_600', 'NM48_750', 'NM52', 'NM52_900', 'NM54', 'NM54_950',\n",
       "       'NM72', 'NM72C', 'NM72_1500', 'NM82', 'NPS 100', 'NPS 100-21',\n",
       "       'NPS-100', 'NPS-2300', 'NTK 150', 'NTK 65', 'NTK 65/13', 'NTK65',\n",
       "       'NW100', 'NW100_19', 'PS-600', 'PS-600b', 'PW56', 'S2.5-90', 'S64',\n",
       "       'S64-1.25', 'S88', 'S95', 'S97', 'SE10020E', 'SE10520E',\n",
       "       'SE8720IIIE', 'SE9320IIIE', 'SI.250', 'SL1500', 'SWT-2.3-101',\n",
       "       'SWT-2.3-108', 'SWT-2.3-82', 'SWT-2.3-93', 'SWT-2.346-108',\n",
       "       'SWT-2.35-108', 'SWT-2.37-108', 'SWT-2.625-120', 'SWT-3.0-101',\n",
       "       'SWT-3.2-113', 'SWT1.3_62', 'SWT2.3_101', 'SWT2.3_93', 'Sojets',\n",
       "       'T-400-34', 'T-600-48', 'T600-48DS', 'U57', 'UP1500', 'V100-1.8',\n",
       "       'V100-1.82', 'V100-2.0', 'V110-2.0', 'V112-3.0', 'V112-3.075',\n",
       "       'V112-3.3', 'V117-3.3', 'V117-3.45', 'V126-3.0', 'V126-3.3',\n",
       "       'V126-3.45', 'V15', 'V17', 'V27', 'V34', 'V39', 'V39-0.5', 'V42',\n",
       "       'V42-0.65', 'V44', 'V44-0.6', 'V47', 'V47-0.6', 'V47-0.66',\n",
       "       'V47-0.71', 'V66', 'V66-1.65', 'V7', 'V80-1.8', 'V80-2.0', 'V82',\n",
       "       'V82-1.65', 'V90-1.8', 'V90-1.86', 'V90-3.0', 'Vensys64',\n",
       "       'Vensys77', 'Vensys82', 'W2320', 'W3000', 'WES18', 'WM15S',\n",
       "       'WM17S', 'WWG0600', 'XL50', 'Z40', 'Z48', 'Z50', 'missing'],\n",
       "      dtype='<U14')"
      ]
     },
     "execution_count": 11,
     "metadata": {},
     "output_type": "execute_result"
    }
   ],
   "source": [
    "model_names"
   ]
  },
  {
   "cell_type": "markdown",
   "metadata": {
    "slideshow": {
     "slide_type": "subslide"
    }
   },
   "source": [
    "# How to write Betautiful Code? Naming!\n",
    "\n",
    "Part 2."
   ]
  },
  {
   "cell_type": "code",
   "execution_count": 12,
   "metadata": {
    "slideshow": {
     "slide_type": "skip"
    }
   },
   "outputs": [],
   "source": [
    "import pandas as pd\n",
    "np.random.seed(42)"
   ]
  },
  {
   "cell_type": "code",
   "execution_count": 13,
   "metadata": {
    "slideshow": {
     "slide_type": ""
    }
   },
   "outputs": [],
   "source": [
    "turbine_unique_result = np.unique(turbine_models, return_inverse=True, return_counts=True)"
   ]
  },
  {
   "cell_type": "code",
   "execution_count": 14,
   "metadata": {
    "slideshow": {
     "slide_type": "fragment"
    }
   },
   "outputs": [
    {
     "data": {
      "text/html": [
       "<div>\n",
       "<style scoped>\n",
       "    .dataframe tbody tr th:only-of-type {\n",
       "        vertical-align: middle;\n",
       "    }\n",
       "\n",
       "    .dataframe tbody tr th {\n",
       "        vertical-align: top;\n",
       "    }\n",
       "\n",
       "    .dataframe thead th {\n",
       "        text-align: right;\n",
       "    }\n",
       "</style>\n",
       "<table border=\"1\" class=\"dataframe\">\n",
       "  <thead>\n",
       "    <tr style=\"text-align: right;\">\n",
       "      <th></th>\n",
       "      <th>turbine_models</th>\n",
       "      <th>counts</th>\n",
       "    </tr>\n",
       "  </thead>\n",
       "  <tbody>\n",
       "    <tr>\n",
       "      <th>39225</th>\n",
       "      <td>N100</td>\n",
       "      <td>191</td>\n",
       "    </tr>\n",
       "    <tr>\n",
       "      <th>45670</th>\n",
       "      <td>GE2.5-100</td>\n",
       "      <td>338</td>\n",
       "    </tr>\n",
       "    <tr>\n",
       "      <th>9654</th>\n",
       "      <td>MWT62/1.0</td>\n",
       "      <td>1820</td>\n",
       "    </tr>\n",
       "    <tr>\n",
       "      <th>11484</th>\n",
       "      <td>GE1.7-100</td>\n",
       "      <td>1318</td>\n",
       "    </tr>\n",
       "    <tr>\n",
       "      <th>30366</th>\n",
       "      <td>NM54</td>\n",
       "      <td>35</td>\n",
       "    </tr>\n",
       "    <tr>\n",
       "      <th>57122</th>\n",
       "      <td>missing</td>\n",
       "      <td>4469</td>\n",
       "    </tr>\n",
       "    <tr>\n",
       "      <th>39869</th>\n",
       "      <td>GE1.5-77</td>\n",
       "      <td>8562</td>\n",
       "    </tr>\n",
       "    <tr>\n",
       "      <th>40530</th>\n",
       "      <td>GE1.5-87</td>\n",
       "      <td>465</td>\n",
       "    </tr>\n",
       "    <tr>\n",
       "      <th>10240</th>\n",
       "      <td>GE1.5-77</td>\n",
       "      <td>8562</td>\n",
       "    </tr>\n",
       "    <tr>\n",
       "      <th>24328</th>\n",
       "      <td>SWT-2.3-101</td>\n",
       "      <td>1086</td>\n",
       "    </tr>\n",
       "  </tbody>\n",
       "</table>\n",
       "</div>"
      ],
      "text/plain": [
       "      turbine_models  counts\n",
       "39225           N100     191\n",
       "45670      GE2.5-100     338\n",
       "9654       MWT62/1.0    1820\n",
       "11484      GE1.7-100    1318\n",
       "30366           NM54      35\n",
       "57122        missing    4469\n",
       "39869       GE1.5-77    8562\n",
       "40530       GE1.5-87     465\n",
       "10240       GE1.5-77    8562\n",
       "24328    SWT-2.3-101    1086"
      ]
     },
     "execution_count": 14,
     "metadata": {},
     "output_type": "execute_result"
    }
   ],
   "source": [
    "pd.DataFrame({\n",
    "    'turbine_models': turbine_models,\n",
    "    'counts': turbine_unique_result[2][turbine_unique_result[1]]\n",
    "}).sample(10)"
   ]
  },
  {
   "cell_type": "markdown",
   "metadata": {
    "slideshow": {
     "slide_type": "subslide"
    }
   },
   "source": [
    "# How to write Betautiful Code? Naming!\n",
    "\n",
    "Part 2, but a bit nicer."
   ]
  },
  {
   "cell_type": "code",
   "execution_count": 15,
   "metadata": {
    "slideshow": {
     "slide_type": "skip"
    }
   },
   "outputs": [],
   "source": [
    "np.random.seed(42)"
   ]
  },
  {
   "cell_type": "code",
   "execution_count": 16,
   "metadata": {
    "slideshow": {
     "slide_type": "-"
    }
   },
   "outputs": [],
   "source": [
    "model_names, inverse_idcs, counts = np.unique(turbine_models, return_inverse=True, return_counts=True)"
   ]
  },
  {
   "cell_type": "code",
   "execution_count": 17,
   "metadata": {
    "slideshow": {
     "slide_type": "-"
    }
   },
   "outputs": [
    {
     "data": {
      "text/html": [
       "<div>\n",
       "<style scoped>\n",
       "    .dataframe tbody tr th:only-of-type {\n",
       "        vertical-align: middle;\n",
       "    }\n",
       "\n",
       "    .dataframe tbody tr th {\n",
       "        vertical-align: top;\n",
       "    }\n",
       "\n",
       "    .dataframe thead th {\n",
       "        text-align: right;\n",
       "    }\n",
       "</style>\n",
       "<table border=\"1\" class=\"dataframe\">\n",
       "  <thead>\n",
       "    <tr style=\"text-align: right;\">\n",
       "      <th></th>\n",
       "      <th>turbine_models</th>\n",
       "      <th>counts</th>\n",
       "    </tr>\n",
       "  </thead>\n",
       "  <tbody>\n",
       "    <tr>\n",
       "      <th>39225</th>\n",
       "      <td>N100</td>\n",
       "      <td>191</td>\n",
       "    </tr>\n",
       "    <tr>\n",
       "      <th>45670</th>\n",
       "      <td>GE2.5-100</td>\n",
       "      <td>338</td>\n",
       "    </tr>\n",
       "    <tr>\n",
       "      <th>9654</th>\n",
       "      <td>MWT62/1.0</td>\n",
       "      <td>1820</td>\n",
       "    </tr>\n",
       "    <tr>\n",
       "      <th>11484</th>\n",
       "      <td>GE1.7-100</td>\n",
       "      <td>1318</td>\n",
       "    </tr>\n",
       "    <tr>\n",
       "      <th>30366</th>\n",
       "      <td>NM54</td>\n",
       "      <td>35</td>\n",
       "    </tr>\n",
       "    <tr>\n",
       "      <th>57122</th>\n",
       "      <td>missing</td>\n",
       "      <td>4469</td>\n",
       "    </tr>\n",
       "    <tr>\n",
       "      <th>39869</th>\n",
       "      <td>GE1.5-77</td>\n",
       "      <td>8562</td>\n",
       "    </tr>\n",
       "    <tr>\n",
       "      <th>40530</th>\n",
       "      <td>GE1.5-87</td>\n",
       "      <td>465</td>\n",
       "    </tr>\n",
       "    <tr>\n",
       "      <th>10240</th>\n",
       "      <td>GE1.5-77</td>\n",
       "      <td>8562</td>\n",
       "    </tr>\n",
       "    <tr>\n",
       "      <th>24328</th>\n",
       "      <td>SWT-2.3-101</td>\n",
       "      <td>1086</td>\n",
       "    </tr>\n",
       "  </tbody>\n",
       "</table>\n",
       "</div>"
      ],
      "text/plain": [
       "      turbine_models  counts\n",
       "39225           N100     191\n",
       "45670      GE2.5-100     338\n",
       "9654       MWT62/1.0    1820\n",
       "11484      GE1.7-100    1318\n",
       "30366           NM54      35\n",
       "57122        missing    4469\n",
       "39869       GE1.5-77    8562\n",
       "40530       GE1.5-87     465\n",
       "10240       GE1.5-77    8562\n",
       "24328    SWT-2.3-101    1086"
      ]
     },
     "execution_count": 17,
     "metadata": {},
     "output_type": "execute_result"
    }
   ],
   "source": [
    "pd.DataFrame({\n",
    "    'turbine_models': turbine_models,\n",
    "    'counts': counts[inverse_idcs]\n",
    "}).sample(10)"
   ]
  },
  {
   "cell_type": "markdown",
   "metadata": {
    "slideshow": {
     "slide_type": "subslide"
    }
   },
   "source": [
    "# How to write Betautiful Code? Named containers!\n",
    "\n",
    "What if one wants to keep the elements of a tuple bound together?"
   ]
  },
  {
   "cell_type": "markdown",
   "metadata": {
    "slideshow": {
     "slide_type": "fragment"
    }
   },
   "source": [
    "Containers!\n",
    "- dictionary: no schema, can be dynamically changed (this is mostly a disadvantage)\n",
    "- [namedtuple](https://docs.python.org/3/library/collections.html#collections.namedtuple): like dict, but syntax `foo.parameter` instead of `foo['parameter']` and fixed schema\n",
    "- [dataclass](https://docs.python.org/3/library/dataclasses.html) for Python >= 3.7\n",
    "- [attrs](https://www.attrs.org/en/stable/): like dataclasses (not part of core Python, but also for < 3.7)\n",
    "- write your own class"
   ]
  },
  {
   "cell_type": "markdown",
   "metadata": {
    "slideshow": {
     "slide_type": "subslide"
    }
   },
   "source": [
    "# How to write Betautiful Code? Naming!\n",
    "\n",
    "Don't try this at home!"
   ]
  },
  {
   "cell_type": "code",
   "execution_count": 18,
   "metadata": {
    "slideshow": {
     "slide_type": "skip"
    }
   },
   "outputs": [],
   "source": [
    "class Shrug:\n",
    "    def __repr__(self):\n",
    "        return '¯\\_(ツ)_/¯'\n",
    "\n",
    "ಠ_ಠ = Shrug()\n",
    "\n",
    "\n",
    "class Yolo:\n",
    "    def __repr__(self):\n",
    "        return '( ͡° ͜ʖ ͡°)'\n",
    "\n",
    "YᵒᵘOᶰˡʸLᶤᵛᵉOᶰᶜᵉ = Yolo()\n",
    "\n",
    "# Emoticons:\n",
    "# http://asciimoji.com/\n",
    "# http://upli.st/l/list-of-all-ascii-emoticons\n",
    "#\n",
    "# Find look-a-like unicode chars:\n",
    "# http://www.unicode.org/Public/security/latest/confusables.txt\n",
    "# https://unicode-search.net/unicode-namesearch.pl?term=BACKSLASH"
   ]
  },
  {
   "cell_type": "code",
   "execution_count": 19,
   "metadata": {
    "slideshow": {
     "slide_type": "fragment"
    }
   },
   "outputs": [],
   "source": [
    "(ツ) = ಠ_ಠ"
   ]
  },
  {
   "cell_type": "code",
   "execution_count": 20,
   "metadata": {
    "slideshow": {
     "slide_type": "fragment"
    },
    "tags": [
     "clear"
    ]
   },
   "outputs": [
    {
     "data": {
      "text/plain": [
       "¯\\_(ツ)_/¯"
      ]
     },
     "execution_count": 20,
     "metadata": {},
     "output_type": "execute_result"
    }
   ],
   "source": [
    "(ツ)"
   ]
  },
  {
   "cell_type": "code",
   "execution_count": 21,
   "metadata": {
    "slideshow": {
     "slide_type": "fragment"
    }
   },
   "outputs": [],
   "source": [
    "(ツ) = YᵒᵘOᶰˡʸLᶤᵛᵉOᶰᶜᵉ"
   ]
  },
  {
   "cell_type": "code",
   "execution_count": 22,
   "metadata": {
    "slideshow": {
     "slide_type": "fragment"
    },
    "tags": [
     "clear"
    ]
   },
   "outputs": [
    {
     "data": {
      "text/plain": [
       "( ͡° ͜ʖ ͡°)"
      ]
     },
     "execution_count": 22,
     "metadata": {},
     "output_type": "execute_result"
    }
   ],
   "source": [
    "(ツ)"
   ]
  },
  {
   "cell_type": "markdown",
   "metadata": {
    "slideshow": {
     "slide_type": "notes"
    }
   },
   "source": [
    "This is valid Python code! Can anybody imagine how this works?"
   ]
  },
  {
   "cell_type": "markdown",
   "metadata": {
    "slideshow": {
     "slide_type": "fragment"
    }
   },
   "source": [
    "<small>inspired by https://twitter.com/yennycheung/status/1099349853518397440 @ [#pythonpizza](https://berlin.python.pizza/)</small>"
   ]
  },
  {
   "cell_type": "code",
   "execution_count": 23,
   "metadata": {
    "slideshow": {
     "slide_type": "skip"
    }
   },
   "outputs": [],
   "source": [
    "# reset it again for presentation...\n",
    "(ツ) = ಠ_ಠ"
   ]
  },
  {
   "cell_type": "markdown",
   "metadata": {
    "slideshow": {
     "slide_type": "subslide"
    }
   },
   "source": [
    "# How to write Betautiful Code? Naming!"
   ]
  },
  {
   "cell_type": "markdown",
   "metadata": {
    "slideshow": {
     "slide_type": "-"
    }
   },
   "source": [
    "If you need to name a *thing*, can you describe the thing to somebody who has no idea what it is and what it does with a single precise word?"
   ]
  },
  {
   "cell_type": "markdown",
   "metadata": {
    "slideshow": {
     "slide_type": "fragment"
    }
   },
   "source": [
    "- neat convention: encode the unit in the name, e.g. `distance_km`\n",
    "- docstrings and comments: don't repeat the code, focus on the non-obvious\n",
    "- if you can't give it a good name, it might be an indication of bad abstraction"
   ]
  },
  {
   "cell_type": "markdown",
   "metadata": {
    "slideshow": {
     "slide_type": "subslide"
    }
   },
   "source": [
    "# How to write Betautiful Code? Naming!\n"
   ]
  },
  {
   "cell_type": "markdown",
   "metadata": {
    "slideshow": {
     "slide_type": "fragment"
    }
   },
   "source": [
    "1. avoid abbreviations\n",
    "2. don't be too generic\n",
    "3. don't be too specific\n",
    "4. names should not be too long\n",
    "5. names should not be meaningless"
   ]
  },
  {
   "cell_type": "markdown",
   "metadata": {
    "slideshow": {
     "slide_type": "fragment"
    }
   },
   "source": [
    "Ad (1) and (4): think twice if these before using these names:\n",
    "\n",
    "    data, value, controller, manager, tmp, helper, util, tool, x, a, foo\n"
   ]
  },
  {
   "cell_type": "markdown",
   "metadata": {
    "slideshow": {
     "slide_type": "subslide"
    }
   },
   "source": [
    "# How to write Betautiful Code? Naming!\n",
    "\n",
    "- use functions to name parts of your code\n",
    "    - only 10-30 lines of code in each function\n",
    "    - also makes scope smaller with a clear interface\n",
    "    - also reduces indentation\n",
    "- avoid so called magic values, put numbers in constants:"
   ]
  },
  {
   "cell_type": "code",
   "execution_count": 24,
   "metadata": {},
   "outputs": [],
   "source": [
    "# this is made up out of thin air, but at least documented\n",
    "MY_ARBITRARY_THRESHOLD = 23.2"
   ]
  },
  {
   "cell_type": "markdown",
   "metadata": {
    "slideshow": {
     "slide_type": "subslide"
    }
   },
   "source": [
    "# How to write Betautiful Code? Naming!\n"
   ]
  },
  {
   "cell_type": "markdown",
   "metadata": {
    "slideshow": {
     "slide_type": "-"
    }
   },
   "source": [
    "Always remember:\n",
    "\n",
    "- Be a poet!\n",
    "- Naming is difficult!"
   ]
  },
  {
   "cell_type": "markdown",
   "metadata": {
    "slideshow": {
     "slide_type": "slide"
    }
   },
   "source": [
    "# How to write Beautiful Code? Pattern!\n",
    "\n",
    "<img src=\"images/software-architecture-pattern.png\" style=\"height:600px;\">\n",
    "\n",
    "<!--\n",
    "Source: https://images-na.ssl-images-amazon.com/images/I/81ZqYrkPrhL.jpg\n",
    "\n",
    "-->"
   ]
  },
  {
   "cell_type": "markdown",
   "metadata": {
    "slideshow": {
     "slide_type": "subslide"
    }
   },
   "source": [
    "# Break the problem into smaller blocks\n",
    "\n",
    "<img src=\"images/lego.svg\" style=\"height:500px;\">\n",
    "\n",
    "<small>Source: https://de.wikipedia.org/wiki/Lego#/media/File:Lego_dimensions.svg CC BY-SA 3.0</small>"
   ]
  },
  {
   "cell_type": "markdown",
   "metadata": {
    "slideshow": {
     "slide_type": "subslide"
    }
   },
   "source": [
    "# Stateless Blocks\n",
    "\n",
    "<img src=\"images/blackbox.png\">\n",
    "\n",
    "They can be complex inside and but should be simple to use from outside."
   ]
  },
  {
   "cell_type": "markdown",
   "metadata": {
    "slideshow": {
     "slide_type": "notes"
    }
   },
   "source": [
    "Break the problem into smaller blocks, use them to construct larger blocks.\n",
    "Each block can be complicated inside, but need to have a clear interface which allows to connect them. If we know what the block does, we don't need to care about it's implementation as long as each input gives an deterministic output, i.e. the output depends only on the input and not on some other state (\"stateless\").\n",
    "Smaller blocks represent the low level abstraction, larger blocks of smaller blocks are the high level abstraction. Low level is closer to the hardware and allows a more fine grained control. High level is easier ind simpler and closer to the problem definition.\n",
    "\n",
    "If we know input and output and what the block does, it can be used without caring about the inside. We can use the abstraction to forget about things and concentrate on other parts. It can be tested and debugged easier. If the output does not depend only on its input, but one some other state (not stateless!), things get more complicated. How to test and debug it? We need to look at more code at once. Pieces of code are more entangled. That's also what makes working with data more complicated than normal software programming (you have to manage the data (state!), not only the routines which handle data).\n",
    "\n",
    "A good abstraction has different layers, higher layers use only lower layers. Therefore cyclic dependencies are avoided automatically."
   ]
  },
  {
   "cell_type": "markdown",
   "metadata": {
    "slideshow": {
     "slide_type": "slide"
    }
   },
   "source": [
    "# Why Python?"
   ]
  },
  {
   "cell_type": "markdown",
   "metadata": {
    "slideshow": {
     "slide_type": "fragment"
    }
   },
   "source": [
    "<img src=\"images/ex-machina.jpg\" style=\"height:500px\">"
   ]
  },
  {
   "cell_type": "markdown",
   "metadata": {
    "slideshow": {
     "slide_type": "fragment"
    }
   },
   "source": [
    "<small>Source: [Screenshot](http://i.imgur.com/C44iJeR.jpg) of the movie [Ex Machina](https://www.imdb.com/title/tt0470752/), see also https://www.reddit.com/r/movies/comments/365f9b/secret_code_in_ex_machina/</small>"
   ]
  },
  {
   "cell_type": "markdown",
   "metadata": {
    "slideshow": {
     "slide_type": "subslide"
    }
   },
   "source": [
    "# Why Python?"
   ]
  },
  {
   "cell_type": "markdown",
   "metadata": {
    "slideshow": {
     "slide_type": "-"
    }
   },
   "source": [
    "<img src=\"images/stackoverflow-statistics1.png\" style=\"height:500px\">\n",
    "\n",
    "<small>Source: https://stackoverflow.blog/2017/05/09/introducing-stack-overflow-trends/</small>"
   ]
  },
  {
   "cell_type": "markdown",
   "metadata": {
    "slideshow": {
     "slide_type": "subslide"
    }
   },
   "source": [
    "# Why Python?\n",
    "\n",
    "<img src=\"images/stackoverflow-statistics2.png\" style=\"height:500px\">\n",
    "\n",
    "<small>Source: https://stackoverflow.blog/2017/09/06/incredible-growth-python/</small>"
   ]
  },
  {
   "cell_type": "markdown",
   "metadata": {
    "slideshow": {
     "slide_type": "subslide"
    }
   },
   "source": [
    "# Why Python?\n",
    "\n",
    "<img src=\"images/what-python-is-used-for.png\" style=\"height:500px\">\n",
    "\n",
    "<small>Source: https://www.jetbrains.com/research/python-developers-survey-2018/</small>"
   ]
  },
  {
   "cell_type": "markdown",
   "metadata": {
    "slideshow": {
     "slide_type": "subslide"
    }
   },
   "source": [
    "# Why Python?\n",
    "\n",
    "## Python is free software!\n",
    "\n",
    "- free* (as in freedom, not as in free beer)\n",
    "- you can look inside and modify/fix things yourself\n",
    "- huge and welcoming community\n",
    "\n",
    "\n",
    "<small>* GPL compatible, but not GPL not sure if RMS would call this free</small>"
   ]
  },
  {
   "cell_type": "markdown",
   "metadata": {
    "slideshow": {
     "slide_type": "slide"
    }
   },
   "source": [
    "# PEP 8"
   ]
  },
  {
   "cell_type": "markdown",
   "metadata": {
    "slideshow": {
     "slide_type": "-"
    }
   },
   "source": [
    " = Official Style Guide for Python Code\n",
    " \n",
    "- where to put spaces\n",
    "- strings and docstrings\n",
    "- naming and snake_case vs CamelCase"
   ]
  },
  {
   "cell_type": "markdown",
   "metadata": {
    "slideshow": {
     "slide_type": "fragment"
    }
   },
   "source": [
    "Typical disagreements:\n",
    "- line width (\"79 is too short\")\n",
    "- quoting styles (' vs \")\n",
    "- tabs vs spaces"
   ]
  },
  {
   "cell_type": "markdown",
   "metadata": {
    "slideshow": {
     "slide_type": "slide"
    }
   },
   "source": [
    "# PEP 8"
   ]
  },
  {
   "cell_type": "markdown",
   "metadata": {
    "slideshow": {
     "slide_type": "-"
    }
   },
   "source": [
    "Extensions of PEP 8 for docstrings and parameters:\n",
    "\n",
    "- [rst](https://sphinxcontrib-napoleon.readthedocs.io/en/latest/index.html)\n",
    "- [numpy](https://sphinxcontrib-napoleon.readthedocs.io/en/latest/example_numpy.html)\n",
    "- [Google](https://sphinxcontrib-napoleon.readthedocs.io/en/latest/example_google.html)\n",
    "- [Epytext](http://epydoc.sourceforge.net/manual-epytext.html)"
   ]
  },
  {
   "cell_type": "markdown",
   "metadata": {
    "slideshow": {
     "slide_type": "subslide"
    }
   },
   "source": [
    "# PEP 8\n",
    "\n",
    "PEP 8 example code\n",
    "<br><small>Source: https://gist.github.com/RichardBronosky/454964087739a449da04</small>"
   ]
  },
  {
   "cell_type": "code",
   "execution_count": null,
   "metadata": {
    "tags": [
     "clear"
    ]
   },
   "outputs": [],
   "source": [
    "#! /usr/bin/env python\n",
    "# -*- coding: utf-8 -*-\n",
    "\"\"\"This module's docstring summary line.\n",
    "\n",
    "This is a multi-line docstring. Paragraphs are separated with blank lines.\n",
    "Lines conform to 79-column limit.\n",
    "\n",
    "Module and packages names should be short, lower_case_with_underscores.\n",
    "Notice that this in not PEP8-cheatsheet.py\n",
    "\n",
    "Seriously, use flake8. Atom.io with https://atom.io/packages/linter-flake8\n",
    "is awesome!\n",
    "\n",
    "See http://www.python.org/dev/peps/pep-0008/ for more PEP-8 details\n",
    "\"\"\"\n",
    "\n",
    "\n",
    "import os  # STD lib imports first\n",
    "import sys  # alphabetical\n",
    "\n",
    "import some_third_party_lib  # 3rd party stuff next\n",
    "import some_third_party_other_lib  # alphabetical\n",
    "\n",
    "import local_stuff  # local stuff last\n",
    "import more_local_stuff\n",
    "import dont_import_two, modules_in_one_line  # IMPORTANT!\n",
    "from pyflakes_cannot_handle import *  # and there are other reasons it should be avoided # noqa\n",
    "# Using # noqa in the line above avoids flake8 warnings about line length!\n",
    "\n",
    "\n",
    "_a_global_var = 2  # so it won't get imported by 'from foo import *'\n",
    "_b_global_var = 3\n",
    "\n",
    "A_CONSTANT = 'ugh.'\n",
    "\n",
    "\n",
    "# 2 empty lines between top-level funcs + classes\n",
    "def naming_convention():\n",
    "    \"\"\"Write docstrings for ALL public classes, funcs and methods.\n",
    "\n",
    "    Functions use snake_case.\n",
    "    \"\"\"\n",
    "    if x == 4:  # x is blue <== USEFUL 1-liner comment (2 spaces before #)\n",
    "        x, y = y, x  # inverse x and y <== USELESS COMMENT (1 space after #)\n",
    "    c = (a + b) * (a - b)  # operator spacing should improve readability.\n",
    "    dict['key'] = dict[0] = {'x': 2, 'cat': 'not a dog'}\n",
    "\n",
    "\n",
    "class NamingConvention(object):\n",
    "    \"\"\"First line of a docstring is short and next to the quotes.\n",
    "\n",
    "    Class and exception names are CapWords.\n",
    "\n",
    "    Closing quotes are on their own line\n",
    "    \"\"\"\n",
    "\n",
    "    a = 2\n",
    "    b = 4\n",
    "    _internal_variable = 3\n",
    "    class_ = 'foo'  # trailing underscore to avoid conflict with builtin\n",
    "\n",
    "    # this will trigger name mangling to further discourage use from outside\n",
    "    # this is also very useful if you intend your class to be subclassed, and\n",
    "    # the children might also use the same var name for something else; e.g.\n",
    "    # for simple variables like 'a' above. Name mangling will ensure that\n",
    "    # *your* a and the children's a will not collide.\n",
    "    __internal_var = 4\n",
    "\n",
    "    # NEVER use double leading and trailing underscores for your own names\n",
    "    __nooooooodontdoit__ = 0\n",
    "\n",
    "    # don't call anything (because some fonts are hard to distiguish):\n",
    "    l = 1\n",
    "    O = 2\n",
    "    I = 3\n",
    "\n",
    "    # some examples of how to wrap code to conform to 79-columns limit:\n",
    "    def __init__(self, width, height,\n",
    "                 color='black', emphasis=None, highlight=0):\n",
    "        if width == 0 and height == 0 and \\\n",
    "           color == 'red' and emphasis == 'strong' or \\\n",
    "           highlight > 100:\n",
    "            raise ValueError('sorry, you lose')\n",
    "        if width == 0 and height == 0 and (color == 'red' or\n",
    "                                           emphasis is None):\n",
    "            raise ValueError(\"I don't think so -- values are %s, %s\" %\n",
    "                             (width, height))\n",
    "        Blob.__init__(self, width, height,\n",
    "                      color, emphasis, highlight)\n",
    "\n",
    "    # empty lines within method to enhance readability; no set rule\n",
    "    short_foo_dict = {'loooooooooooooooooooong_element_name': 'cat',\n",
    "                      'other_element': 'dog'}\n",
    "\n",
    "    long_foo_dict_with_many_elements = {\n",
    "        'foo': 'cat',\n",
    "        'bar': 'dog'\n",
    "    }\n",
    "\n",
    "    # 1 empty line between in-class def'ns\n",
    "    def foo_method(self, x, y=None):\n",
    "        \"\"\"Method and function names are lower_case_with_underscores.\n",
    "\n",
    "        Always use self as first arg.\n",
    "        \"\"\"\n",
    "        pass\n",
    "\n",
    "    @classmethod\n",
    "    def bar(cls):\n",
    "        \"\"\"Use cls!\"\"\"\n",
    "        pass\n",
    "\n",
    "# a 79-char ruler:\n",
    "# 34567891123456789212345678931234567894123456789512345678961234567897123456789\n",
    "\n",
    "\"\"\"\n",
    "Common naming convention names:\n",
    "snake_case\n",
    "MACRO_CASE\n",
    "camelCase\n",
    "CapWords\n",
    "\"\"\"\n",
    "\n",
    "# Newline at end of file"
   ]
  },
  {
   "cell_type": "markdown",
   "metadata": {
    "slideshow": {
     "slide_type": "subslide"
    }
   },
   "source": [
    "# PEP 8\n",
    "\n",
    "Use a code linter in your editor and tests!\n",
    "\n",
    "- [pycodestyle](https://pypi.org/project/pycodestyle/) (formerly called \"pep8\"): checks only style, not validity\n",
    "- [flake8](https://github.com/PyCQA/flake8): faster than pylint, a combination of (pycodestyle and pyflakes)\n",
    "- [pylint](https://www.pylint.org/): stricter than flake8\n",
    "- [black](https://github.com/ambv/black): code formatter\n"
   ]
  },
  {
   "cell_type": "markdown",
   "metadata": {
    "slideshow": {
     "slide_type": "fragment"
    }
   },
   "source": [
    "On command line:\n",
    "\n",
    "```\n",
    "$ pylint3 debug-numpy-linalg-norm.py \n",
    "************* Module debug-numpy-linalg-norm\n",
    "debug-numpy-linalg-norm.py:1:0: C0103: Module name \"debug-numpy-linalg-norm\" doesn't conform to snake_case naming style (invalid-name)\n",
    "debug-numpy-linalg-norm.py:1:0: C0111: Missing module docstring (missing-docstring)\n",
    "debug-numpy-linalg-norm.py:3:0: C0103: Constant name \"d\" doesn't conform to UPPER_CASE naming style (invalid-name)\n",
    "\n",
    "-----------------------------------\n",
    "Your code has been rated at 0.00/10\n",
    "```"
   ]
  },
  {
   "cell_type": "markdown",
   "metadata": {
    "slideshow": {
     "slide_type": "slide"
    }
   },
   "source": [
    "# Questions?"
   ]
  },
  {
   "cell_type": "markdown",
   "metadata": {
    "slideshow": {
     "slide_type": "slide"
    }
   },
   "source": [
    "# PEP 8: Exercise\n",
    "\n",
    "<br>\n",
    "<div style=\"larger\">Try out code one or more code linters and fix some PEP 8 issues!</div>\n",
    "\n",
    "Suggestion:\n",
    "- `exmachina.py` (many violations)\n",
    "- a well known module (e.g. numpy, logging, ...)\n",
    "- your own code"
   ]
  },
  {
   "cell_type": "markdown",
   "metadata": {
    "slideshow": {
     "slide_type": "slide"
    }
   },
   "source": [
    "# Everything is an Object"
   ]
  },
  {
   "cell_type": "code",
   "execution_count": 26,
   "metadata": {
    "slideshow": {
     "slide_type": "fragment"
    }
   },
   "outputs": [],
   "source": [
    "meaning = 42"
   ]
  },
  {
   "cell_type": "code",
   "execution_count": 27,
   "metadata": {
    "slideshow": {
     "slide_type": "fragment"
    }
   },
   "outputs": [],
   "source": [
    "from datetime import datetime"
   ]
  },
  {
   "cell_type": "code",
   "execution_count": 28,
   "metadata": {
    "slideshow": {
     "slide_type": "fragment"
    }
   },
   "outputs": [],
   "source": [
    "birthdays = {\n",
    "    'Alice': datetime(1978, 2, 1), \n",
    "    'Bob': datetime(1978, 2, 3)\n",
    "}"
   ]
  },
  {
   "cell_type": "code",
   "execution_count": 29,
   "metadata": {
    "slideshow": {
     "slide_type": "fragment"
    }
   },
   "outputs": [],
   "source": [
    "data = [1, 2, 3, meaning, birthdays]"
   ]
  },
  {
   "cell_type": "code",
   "execution_count": 30,
   "metadata": {
    "slideshow": {
     "slide_type": "fragment"
    }
   },
   "outputs": [],
   "source": [
    "del birthdays    # del is very rarely needed in real life, this is for demonstration"
   ]
  },
  {
   "cell_type": "code",
   "execution_count": 31,
   "metadata": {},
   "outputs": [
    {
     "data": {
      "text/plain": [
       "[1,\n",
       " 2,\n",
       " 3,\n",
       " 42,\n",
       " {'Alice': datetime.datetime(1978, 2, 1, 0, 0),\n",
       "  'Bob': datetime.datetime(1978, 2, 3, 0, 0)}]"
      ]
     },
     "execution_count": 31,
     "metadata": {},
     "output_type": "execute_result"
    }
   ],
   "source": [
    "data"
   ]
  },
  {
   "cell_type": "markdown",
   "metadata": {
    "slideshow": {
     "slide_type": "subslide"
    }
   },
   "source": [
    "# Everything is an Object"
   ]
  },
  {
   "cell_type": "markdown",
   "metadata": {},
   "source": [
    "A function takes objects as inputs and its return value is an object. Functions are objects too, everything is an object!"
   ]
  },
  {
   "cell_type": "code",
   "execution_count": 32,
   "metadata": {
    "slideshow": {
     "slide_type": "skip"
    }
   },
   "outputs": [
    {
     "name": "stdout",
     "output_type": "stream",
     "text": [
      "Populating the interactive namespace from numpy and matplotlib\n"
     ]
    },
    {
     "name": "stderr",
     "output_type": "stream",
     "text": [
      "/home/peter/.local/lib/python3.6/site-packages/IPython/core/magics/pylab.py:160: UserWarning: pylab import has clobbered these variables: ['f', 'datetime']\n",
      "`%matplotlib` prevents importing * from pylab and numpy\n",
      "  \"\\n`%matplotlib` prevents importing * from pylab and numpy\"\n"
     ]
    }
   ],
   "source": [
    "from scipy.interpolate import interp1d\n",
    "%pylab inline"
   ]
  },
  {
   "cell_type": "code",
   "execution_count": 33,
   "metadata": {},
   "outputs": [],
   "source": [
    "power_curve = interp1d(\n",
    "    [0, 1, 2, 3, 4],\n",
    "    [0, 0.3, 1., 1.5, 1.5]\n",
    ")"
   ]
  },
  {
   "cell_type": "code",
   "execution_count": 34,
   "metadata": {
    "slideshow": {
     "slide_type": "fragment"
    }
   },
   "outputs": [
    {
     "data": {
      "text/plain": [
       "array(0.65)"
      ]
     },
     "execution_count": 34,
     "metadata": {},
     "output_type": "execute_result"
    }
   ],
   "source": [
    "power_curve(1.5)"
   ]
  },
  {
   "cell_type": "code",
   "execution_count": 35,
   "metadata": {
    "slideshow": {
     "slide_type": "fragment"
    }
   },
   "outputs": [
    {
     "data": {
      "image/png": "[encoded data removed]",
      "text/plain": [
       "<Figure size 432x288 with 1 Axes>"
      ]
     },
     "metadata": {
      "needs_background": "light"
     },
     "output_type": "display_data"
    }
   ],
   "source": [
    "def plot_func(func):\n",
    "    x = np.linspace(0, 4, num=20)\n",
    "    y = func(x)\n",
    "    plot(x, y, 'o-')\n",
    "    \n",
    "plot_func(power_curve)"
   ]
  },
  {
   "cell_type": "markdown",
   "metadata": {
    "slideshow": {
     "slide_type": "slide"
    }
   },
   "source": [
    "# Everything is an Object\n",
    "\n",
    "<small>See also: https://docs.python.org/3/reference/datamodel.html</small>\n",
    "\n",
    "\n",
    "- in Python data is stored in objects - and everything is an object (also functions, modules, ...)\n",
    "- objects can be stored in variables (aka \"names\") or in other objects (nested)\n",
    "- variables/names are created via assignment `=` or other Python statements (`import`, `def`, `class`, ...)"
   ]
  },
  {
   "cell_type": "markdown",
   "metadata": {
    "slideshow": {
     "slide_type": "subslide"
    }
   },
   "source": [
    "# Everything is an Object\n",
    "\n",
    "Every object consists of:\n",
    "- **identity**: never changes after creation (like a pointer or memory address)\n",
    "- **value**: the data to be stored, something like list elements (can be changed)\n",
    "- **type**: e.g. list, int, float, dict, ... (better not try to change this!)"
   ]
  },
  {
   "cell_type": "markdown",
   "metadata": {
    "slideshow": {
     "slide_type": "subslide"
    }
   },
   "source": [
    "# Everything is an Object\n",
    "\n",
    "- variables contain only references to the object (the identity)\n",
    "- assignments and parameters to functions don't copy objects, only pass references\n",
    "- there are types of objects which contain references to other objects (`list`, `dict`, `tuple`, ...)\n",
    "- some types cannot contain other objects (`str`, `int`, `float`, ...)\n",
    "- some operations modify objects, other operations create new objects"
   ]
  },
  {
   "cell_type": "markdown",
   "metadata": {
    "slideshow": {
     "slide_type": "subslide"
    }
   },
   "source": [
    "# Everything is an Object: Assignment and Modification"
   ]
  },
  {
   "cell_type": "code",
   "execution_count": 36,
   "metadata": {},
   "outputs": [],
   "source": [
    "list1 = [1,2,3]\n",
    "list2 = [1,2,3]\n",
    "another_list1 = list1"
   ]
  },
  {
   "cell_type": "code",
   "execution_count": 37,
   "metadata": {
    "slideshow": {
     "slide_type": "fragment"
    },
    "tags": [
     "clear"
    ]
   },
   "outputs": [
    {
     "data": {
      "text/plain": [
       "True"
      ]
     },
     "execution_count": 37,
     "metadata": {},
     "output_type": "execute_result"
    }
   ],
   "source": [
    "list1 == list2"
   ]
  },
  {
   "cell_type": "code",
   "execution_count": 38,
   "metadata": {
    "slideshow": {
     "slide_type": "fragment"
    },
    "tags": [
     "clear"
    ]
   },
   "outputs": [
    {
     "data": {
      "text/plain": [
       "False"
      ]
     },
     "execution_count": 38,
     "metadata": {},
     "output_type": "execute_result"
    }
   ],
   "source": [
    "list1 is list2"
   ]
  },
  {
   "cell_type": "code",
   "execution_count": 39,
   "metadata": {
    "slideshow": {
     "slide_type": "fragment"
    },
    "tags": [
     "clear"
    ]
   },
   "outputs": [
    {
     "data": {
      "text/plain": [
       "True"
      ]
     },
     "execution_count": 39,
     "metadata": {},
     "output_type": "execute_result"
    }
   ],
   "source": [
    "list1 is another_list1"
   ]
  },
  {
   "cell_type": "markdown",
   "metadata": {
    "slideshow": {
     "slide_type": "subslide"
    }
   },
   "source": [
    "# Everything is an Object: Assignment and Modification"
   ]
  },
  {
   "cell_type": "code",
   "execution_count": 40,
   "metadata": {
    "slideshow": {
     "slide_type": "fragment"
    },
    "tags": [
     "clear"
    ]
   },
   "outputs": [
    {
     "data": {
      "text/plain": [
       "[1, 2, 3, 42]"
      ]
     },
     "execution_count": 40,
     "metadata": {},
     "output_type": "execute_result"
    }
   ],
   "source": [
    "list1.append(42)  # modifies list1\n",
    "list1"
   ]
  },
  {
   "cell_type": "code",
   "execution_count": 41,
   "metadata": {
    "slideshow": {
     "slide_type": "fragment"
    },
    "tags": [
     "clear"
    ]
   },
   "outputs": [
    {
     "data": {
      "text/plain": [
       "[1, 2, 3]"
      ]
     },
     "execution_count": 41,
     "metadata": {},
     "output_type": "execute_result"
    }
   ],
   "source": [
    "list2"
   ]
  },
  {
   "cell_type": "code",
   "execution_count": 42,
   "metadata": {
    "slideshow": {
     "slide_type": "fragment"
    },
    "tags": [
     "clear"
    ]
   },
   "outputs": [
    {
     "data": {
      "text/plain": [
       "[1, 2, 3, 42]"
      ]
     },
     "execution_count": 42,
     "metadata": {},
     "output_type": "execute_result"
    }
   ],
   "source": [
    "another_list1"
   ]
  },
  {
   "cell_type": "markdown",
   "metadata": {
    "slideshow": {
     "slide_type": "subslide"
    }
   },
   "source": [
    "# Everything is an Object: Assignment and Modification"
   ]
  },
  {
   "cell_type": "code",
   "execution_count": 43,
   "metadata": {},
   "outputs": [
    {
     "data": {
      "text/plain": [
       "[1, 2, 3, 42, 1, 2, 3]"
      ]
     },
     "execution_count": 43,
     "metadata": {},
     "output_type": "execute_result"
    }
   ],
   "source": [
    "merged_lists = list1 + list2  # creates a new object!\n",
    "merged_lists"
   ]
  },
  {
   "cell_type": "markdown",
   "metadata": {
    "slideshow": {
     "slide_type": "fragment"
    }
   },
   "source": [
    "`list1` and `another_list1` are identical, i.e. their identity is the same:"
   ]
  },
  {
   "cell_type": "code",
   "execution_count": 44,
   "metadata": {
    "slideshow": {
     "slide_type": "-"
    }
   },
   "outputs": [
    {
     "name": "stdout",
     "output_type": "stream",
     "text": [
      "id(list1) = 139889121097608\n",
      "id(list2) = 139889086691272\n",
      "id(another_list1) = 139889121097608\n",
      "id(merged_lists) = 139889123752008\n"
     ]
    }
   ],
   "source": [
    "print(\"id(list1) =\", id(list1))\n",
    "print(\"id(list2) =\", id(list2))\n",
    "print(\"id(another_list1) =\", id(another_list1))\n",
    "print(\"id(merged_lists) =\", id(merged_lists))"
   ]
  },
  {
   "cell_type": "markdown",
   "metadata": {
    "slideshow": {
     "slide_type": "subslide"
    }
   },
   "source": [
    "# Everything is an Object: Assignment and Modification"
   ]
  },
  {
   "cell_type": "code",
   "execution_count": 45,
   "metadata": {
    "slideshow": {
     "slide_type": "fragment"
    }
   },
   "outputs": [
    {
     "data": {
      "text/plain": [
       "True"
      ]
     },
     "execution_count": 45,
     "metadata": {},
     "output_type": "execute_result"
    }
   ],
   "source": [
    "list1 is another_list1"
   ]
  },
  {
   "cell_type": "code",
   "execution_count": 46,
   "metadata": {},
   "outputs": [
    {
     "data": {
      "text/plain": [
       "True"
      ]
     },
     "execution_count": 46,
     "metadata": {},
     "output_type": "execute_result"
    }
   ],
   "source": [
    "list1 == another_list1"
   ]
  },
  {
   "cell_type": "code",
   "execution_count": 47,
   "metadata": {
    "slideshow": {
     "slide_type": "-"
    }
   },
   "outputs": [],
   "source": [
    "list1 = [1, 2, 3]"
   ]
  },
  {
   "cell_type": "code",
   "execution_count": 48,
   "metadata": {
    "slideshow": {
     "slide_type": "fragment"
    }
   },
   "outputs": [
    {
     "data": {
      "text/plain": [
       "[1, 2, 3, 42]"
      ]
     },
     "execution_count": 48,
     "metadata": {},
     "output_type": "execute_result"
    }
   ],
   "source": [
    "another_list1"
   ]
  },
  {
   "cell_type": "code",
   "execution_count": 49,
   "metadata": {
    "slideshow": {
     "slide_type": "fragment"
    }
   },
   "outputs": [
    {
     "data": {
      "text/plain": [
       "False"
      ]
     },
     "execution_count": 49,
     "metadata": {},
     "output_type": "execute_result"
    }
   ],
   "source": [
    "list1 is another_list1"
   ]
  },
  {
   "cell_type": "code",
   "execution_count": 50,
   "metadata": {
    "slideshow": {
     "slide_type": "skip"
    }
   },
   "outputs": [],
   "source": [
    "# just reset it again, to start with correctly set variables after running parts again\n",
    "list1 = [1,2,3]\n",
    "list2 = [1,2,3]\n",
    "another_list1 = list1"
   ]
  },
  {
   "cell_type": "markdown",
   "metadata": {
    "slideshow": {
     "slide_type": "subslide"
    }
   },
   "source": [
    "# Everything is an Object: Assignment and Modification"
   ]
  },
  {
   "cell_type": "markdown",
   "metadata": {},
   "source": [
    "Summery: don't confuse the following:"
   ]
  },
  {
   "cell_type": "markdown",
   "metadata": {
    "slideshow": {
     "slide_type": "fragment"
    }
   },
   "source": [
    "- creation of a new object: something like `[1,2,3]`, `23` or `np.array([1,2,3])`"
   ]
  },
  {
   "cell_type": "markdown",
   "metadata": {
    "slideshow": {
     "slide_type": "fragment"
    }
   },
   "source": [
    "- modifying of an existing object: `list1.append(42)` "
   ]
  },
  {
   "cell_type": "markdown",
   "metadata": {
    "slideshow": {
     "slide_type": "fragment"
    }
   },
   "source": [
    "- assignment: assigns a reference to the variable on lhs of the `=`"
   ]
  },
  {
   "cell_type": "markdown",
   "metadata": {
    "slideshow": {
     "slide_type": "fragment"
    }
   },
   "source": [
    "If a method (or function) like `list.append()` modifies the object or returns a new one is different for each method."
   ]
  },
  {
   "cell_type": "markdown",
   "metadata": {
    "slideshow": {
     "slide_type": "subslide"
    }
   },
   "source": [
    "# Everything is an Object: Copy an object"
   ]
  },
  {
   "cell_type": "markdown",
   "metadata": {},
   "source": [
    "Sometimes an object needs to be copied:"
   ]
  },
  {
   "cell_type": "code",
   "execution_count": 51,
   "metadata": {},
   "outputs": [],
   "source": [
    "import copy"
   ]
  },
  {
   "cell_type": "code",
   "execution_count": 52,
   "metadata": {},
   "outputs": [],
   "source": [
    "first_list = [1, 2, 3]\n",
    "copy_of_first_list = copy.copy(first_list)"
   ]
  },
  {
   "cell_type": "markdown",
   "metadata": {
    "slideshow": {
     "slide_type": "fragment"
    }
   },
   "source": [
    "Nested objects are copied with `copy.deepcopy()`."
   ]
  },
  {
   "cell_type": "markdown",
   "metadata": {
    "slideshow": {
     "slide_type": "subslide"
    }
   },
   "source": [
    "# Everything is an Object: Classes\n",
    "\n",
    "New types are created by implementing a class:"
   ]
  },
  {
   "cell_type": "code",
   "execution_count": 53,
   "metadata": {
    "slideshow": {
     "slide_type": "-"
    }
   },
   "outputs": [],
   "source": [
    "class Polynomial(tuple):\n",
    "    \"\"\"Something like 3*x² + x.\"\"\"\n",
    "    ..."
   ]
  },
  {
   "cell_type": "markdown",
   "metadata": {
    "slideshow": {
     "slide_type": "subslide"
    }
   },
   "source": [
    "# Everything is an Object: Classes"
   ]
  },
  {
   "cell_type": "markdown",
   "metadata": {
    "slideshow": {
     "slide_type": "fragment"
    }
   },
   "source": [
    "Let's create some objects of our new type:"
   ]
  },
  {
   "cell_type": "code",
   "execution_count": 54,
   "metadata": {
    "slideshow": {
     "slide_type": ""
    }
   },
   "outputs": [],
   "source": [
    "quadratic_polynomial = Polynomial((3, 2, 0))\n",
    "linear_polynomial = Polynomial((0, 2, 1))"
   ]
  },
  {
   "cell_type": "code",
   "execution_count": 55,
   "metadata": {
    "slideshow": {
     "slide_type": "fragment"
    }
   },
   "outputs": [
    {
     "data": {
      "text/plain": [
       "(3, 2, 0)"
      ]
     },
     "execution_count": 55,
     "metadata": {},
     "output_type": "execute_result"
    }
   ],
   "source": [
    "quadratic_polynomial"
   ]
  },
  {
   "cell_type": "code",
   "execution_count": 56,
   "metadata": {},
   "outputs": [],
   "source": [
    "def add_polynomials(polynomial1, polynomial2):\n",
    "    # FIXME this is broken for polynomials of different degree\n",
    "    # zip will take consider only shorter iterable\n",
    "    return Polynomial((coeff1 + coeff2 \n",
    "                       for coeff1, coeff2 in zip(polynomial1, polynomial2)))"
   ]
  },
  {
   "cell_type": "code",
   "execution_count": 57,
   "metadata": {},
   "outputs": [
    {
     "data": {
      "text/plain": [
       "(3, 4, 1)"
      ]
     },
     "execution_count": 57,
     "metadata": {},
     "output_type": "execute_result"
    }
   ],
   "source": [
    "add_polynomials(quadratic_polynomial, linear_polynomial)"
   ]
  },
  {
   "cell_type": "markdown",
   "metadata": {
    "slideshow": {
     "slide_type": "subslide"
    }
   },
   "source": [
    "# Everything is an Object: Classes"
   ]
  },
  {
   "cell_type": "markdown",
   "metadata": {},
   "source": [
    "Classes can be considered as name space:"
   ]
  },
  {
   "cell_type": "code",
   "execution_count": 58,
   "metadata": {
    "slideshow": {
     "slide_type": "-"
    }
   },
   "outputs": [],
   "source": [
    "class Polynomial(tuple):\n",
    "    \"\"\"Something like 3*x² + x.\"\"\"\n",
    "\n",
    "    def add(polynomial1, polynomial2):\n",
    "        # FIXME this is broken for polynomials of different degree\n",
    "        # zip will take consider only shorter iterable\n",
    "        return Polynomial((coefficient1 +  coefficient2 \n",
    "                           for coefficient1, coefficient2 in zip(polynomial1, polynomial2)))"
   ]
  },
  {
   "cell_type": "code",
   "execution_count": 59,
   "metadata": {
    "slideshow": {
     "slide_type": "skip"
    }
   },
   "outputs": [],
   "source": [
    "# Ok, it needs a bit of cheating... The method add() needs to exist at creation time.\n",
    "quadratic_polynomial = Polynomial((3, 2, 0))\n",
    "linear_polynomial = Polynomial((0, 2, 1))"
   ]
  },
  {
   "cell_type": "code",
   "execution_count": 60,
   "metadata": {
    "slideshow": {
     "slide_type": "fragment"
    }
   },
   "outputs": [
    {
     "data": {
      "text/plain": [
       "(3, 4, 1)"
      ]
     },
     "execution_count": 60,
     "metadata": {},
     "output_type": "execute_result"
    }
   ],
   "source": [
    "Polynomial.add(quadratic_polynomial, linear_polynomial)"
   ]
  },
  {
   "cell_type": "markdown",
   "metadata": {
    "slideshow": {
     "slide_type": "fragment"
    }
   },
   "source": [
    "Python knows that `quadratic_polynomial` is of type `Polynomial`, so a shorter (mostly) equivalent way of the same line is:"
   ]
  },
  {
   "cell_type": "code",
   "execution_count": 61,
   "metadata": {},
   "outputs": [
    {
     "data": {
      "text/plain": [
       "(3, 4, 1)"
      ]
     },
     "execution_count": 61,
     "metadata": {},
     "output_type": "execute_result"
    }
   ],
   "source": [
    "quadratic_polynomial.add(linear_polynomial)"
   ]
  },
  {
   "cell_type": "markdown",
   "metadata": {
    "slideshow": {
     "slide_type": "subslide"
    }
   },
   "source": [
    "# Everything is an Object: Classes"
   ]
  },
  {
   "cell_type": "markdown",
   "metadata": {},
   "source": [
    "By convention the first parameter in class methods is called `self`, you should stick to this convention. It's role is similar to `this` in C++ or Java."
   ]
  },
  {
   "cell_type": "code",
   "execution_count": 62,
   "metadata": {
    "slideshow": {
     "slide_type": "-"
    }
   },
   "outputs": [],
   "source": [
    "class Polynomial(tuple):\n",
    "    \"\"\"Something like 3*x² + x.\"\"\"\n",
    "\n",
    "    def add(self, other):\n",
    "        # FIXME this is broken for polynomials of different degree\n",
    "        # zip will take consider only shorter iterable\n",
    "        return Polynomial((self_coeff + other_coeff\n",
    "                           for self_coeff, other_coeff in zip(self, other)))"
   ]
  },
  {
   "cell_type": "markdown",
   "metadata": {
    "slideshow": {
     "slide_type": "subslide"
    }
   },
   "source": [
    "# Everything is an Object: Classes"
   ]
  },
  {
   "cell_type": "code",
   "execution_count": 63,
   "metadata": {
    "slideshow": {
     "slide_type": "-"
    }
   },
   "outputs": [],
   "source": [
    "class Polynomial(tuple):\n",
    "    \"\"\"Something like 3*x² + x.\"\"\"\n",
    "\n",
    "    def __add__(self, other):\n",
    "        # FIXME this is broken for polynomials of different degree\n",
    "        # zip will take consider only shorter iterable\n",
    "        return Polynomial((self_coeff + other_coeff\n",
    "                           for self_coeff, other_coeff in zip(self, other)))"
   ]
  },
  {
   "cell_type": "code",
   "execution_count": 64,
   "metadata": {
    "slideshow": {
     "slide_type": "skip"
    }
   },
   "outputs": [],
   "source": [
    "# Ok, it needs a bit of cheating... The method add() needs to exist at creation time.\n",
    "quadratic_polynomial = Polynomial((3, 2, 0))\n",
    "linear_polynomial = Polynomial((0, 2, 1))"
   ]
  },
  {
   "cell_type": "code",
   "execution_count": 65,
   "metadata": {
    "slideshow": {
     "slide_type": "skip"
    }
   },
   "outputs": [
    {
     "data": {
      "text/plain": [
       "(3, 4, 1)"
      ]
     },
     "execution_count": 65,
     "metadata": {},
     "output_type": "execute_result"
    }
   ],
   "source": [
    "quadratic_polynomial + linear_polynomial"
   ]
  },
  {
   "cell_type": "markdown",
   "metadata": {},
   "source": [
    "There is a very consistent protocol to modify how things behave in Python using so called \"dunder\" methods starting and ending with two underscores `__do_something__`.\n",
    "\n",
    "More here:\n",
    "https://www.youtube.com/watch?v=cKPlPJyQrt4"
   ]
  },
  {
   "cell_type": "markdown",
   "metadata": {
    "slideshow": {
     "slide_type": "subslide"
    }
   },
   "source": [
    "# Everything is an Object: Classes\n",
    "\n",
    "A different view on classes is a bit more common: classes are like Platotic forms. They define how objects are created (constructor in `__new__` and `__init__`), how they store data (in their attributes) and how they behave (i.e. which methods do they implement)."
   ]
  },
  {
   "cell_type": "code",
   "execution_count": 66,
   "metadata": {
    "slideshow": {
     "slide_type": "-"
    }
   },
   "outputs": [],
   "source": [
    "class QuadraticPolynomial(Polynomial):    # inherits from a Polynomial = is a special case of a Polynomial\n",
    "    def __init__(self, coefficients):     # __init__ is called to initialize new objects after creation\n",
    "        self.degree = len(coefficients)\n",
    "        \n",
    "    def __repr__(self):\n",
    "        return f\"{self[0]}x² + {self[1]}x + {self[2]}\"\n",
    "    \n",
    "    def __call__(self, x):\n",
    "        return sum(coeff * x**i for i, coeff in enumerate(reversed(self)))\n",
    "\n",
    "    def __add__(self, other):\n",
    "        # FIXME this is broken for polynomials of different degree\n",
    "        # zip will take consider only shorter iterable\n",
    "        return Polynomial((self_coeff + other_coeff\n",
    "                           for self_coeff, other_coeff in zip(self, other)))"
   ]
  },
  {
   "cell_type": "code",
   "execution_count": 67,
   "metadata": {
    "slideshow": {
     "slide_type": "fragment"
    }
   },
   "outputs": [
    {
     "data": {
      "text/plain": [
       "3x² + 2x + 0"
      ]
     },
     "execution_count": 67,
     "metadata": {},
     "output_type": "execute_result"
    }
   ],
   "source": [
    "quadratic_polynomial = QuadraticPolynomial(quadratic_polynomial)\n",
    "quadratic_polynomial"
   ]
  },
  {
   "cell_type": "markdown",
   "metadata": {
    "slideshow": {
     "slide_type": "fragment"
    }
   },
   "source": [
    "Attributes not only used for methods, but also used to store non-callable objects:"
   ]
  },
  {
   "cell_type": "code",
   "execution_count": 68,
   "metadata": {},
   "outputs": [
    {
     "data": {
      "text/plain": [
       "3"
      ]
     },
     "execution_count": 68,
     "metadata": {},
     "output_type": "execute_result"
    }
   ],
   "source": [
    "quadratic_polynomial.degree"
   ]
  },
  {
   "cell_type": "markdown",
   "metadata": {
    "slideshow": {
     "slide_type": "subslide"
    }
   },
   "source": [
    "# Everything is an Object: Overloading operators "
   ]
  },
  {
   "cell_type": "code",
   "execution_count": 1,
   "metadata": {},
   "outputs": [],
   "source": [
    "import pathlib"
   ]
  },
  {
   "cell_type": "code",
   "execution_count": 2,
   "metadata": {
    "slideshow": {
     "slide_type": "fragment"
    }
   },
   "outputs": [],
   "source": [
    "tmp_folder = pathlib.Path('/tmp')"
   ]
  },
  {
   "cell_type": "code",
   "execution_count": 4,
   "metadata": {
    "slideshow": {
     "slide_type": "fragment"
    }
   },
   "outputs": [
    {
     "data": {
      "text/plain": [
       "PosixPath('/tmp/firefox_peter')"
      ]
     },
     "execution_count": 4,
     "metadata": {},
     "output_type": "execute_result"
    }
   ],
   "source": [
    "tmp_folder/'firefox_peter'"
   ]
  },
  {
   "cell_type": "markdown",
   "metadata": {
    "slideshow": {
     "slide_type": "subslide"
    }
   },
   "source": [
    "# Everything is an Object\n",
    "\n",
    "To summarize: objects are created either..."
   ]
  },
  {
   "cell_type": "markdown",
   "metadata": {},
   "source": [
    "...by calling classes (similar to functions):"
   ]
  },
  {
   "cell_type": "code",
   "execution_count": 69,
   "metadata": {
    "slideshow": {
     "slide_type": "fragment"
    }
   },
   "outputs": [
    {
     "data": {
      "text/plain": [
       "42"
      ]
     },
     "execution_count": 69,
     "metadata": {},
     "output_type": "execute_result"
    }
   ],
   "source": [
    "int(\"42\")"
   ]
  },
  {
   "cell_type": "code",
   "execution_count": 70,
   "metadata": {
    "slideshow": {
     "slide_type": "fragment"
    }
   },
   "outputs": [
    {
     "data": {
      "text/plain": [
       "{'key1': 42, 'key2': 43}"
      ]
     },
     "execution_count": 70,
     "metadata": {},
     "output_type": "execute_result"
    }
   ],
   "source": [
    "dict(key1=42, key2=43)"
   ]
  },
  {
   "cell_type": "markdown",
   "metadata": {
    "slideshow": {
     "slide_type": "subslide"
    }
   },
   "source": [
    "# Everything is an Object\n",
    "\n",
    "To summarize: objects are created either..."
   ]
  },
  {
   "cell_type": "markdown",
   "metadata": {
    "slideshow": {
     "slide_type": "-"
    }
   },
   "source": [
    "...by literals:"
   ]
  },
  {
   "cell_type": "code",
   "execution_count": 71,
   "metadata": {},
   "outputs": [
    {
     "data": {
      "text/plain": [
       "42"
      ]
     },
     "execution_count": 71,
     "metadata": {},
     "output_type": "execute_result"
    }
   ],
   "source": [
    "42"
   ]
  },
  {
   "cell_type": "code",
   "execution_count": 72,
   "metadata": {},
   "outputs": [
    {
     "data": {
      "text/plain": [
       "{'key': 43}"
      ]
     },
     "execution_count": 72,
     "metadata": {},
     "output_type": "execute_result"
    }
   ],
   "source": [
    "{'key': 42, 'key': 43}"
   ]
  },
  {
   "cell_type": "markdown",
   "metadata": {
    "slideshow": {
     "slide_type": "subslide"
    }
   },
   "source": [
    "# Everything is an Object\n",
    "\n",
    "To summarize: objects are created either..."
   ]
  },
  {
   "cell_type": "markdown",
   "metadata": {
    "slideshow": {
     "slide_type": "-"
    }
   },
   "source": [
    "...by statements, but this is a special case and only important to emphasize that everything is an object:"
   ]
  },
  {
   "cell_type": "code",
   "execution_count": 73,
   "metadata": {},
   "outputs": [],
   "source": [
    "import logging\n",
    "\n",
    "def my_function():\n",
    "    pass\n",
    "\n",
    "class SomeClass:\n",
    "    pass"
   ]
  },
  {
   "cell_type": "markdown",
   "metadata": {
    "slideshow": {
     "slide_type": "slide"
    }
   },
   "source": [
    "# Everything can be modified"
   ]
  },
  {
   "cell_type": "code",
   "execution_count": 74,
   "metadata": {
    "slideshow": {
     "slide_type": "skip"
    }
   },
   "outputs": [],
   "source": [
    "orig_print = print"
   ]
  },
  {
   "cell_type": "code",
   "execution_count": 75,
   "metadata": {
    "scrolled": true,
    "slideshow": {
     "slide_type": "fragment"
    }
   },
   "outputs": [],
   "source": [
    "def evil_print(*value, sep=' ', end='\\n', file=None, flush=False):\n",
    "    return \"(͠≖ ͜ʖ͠≖)\""
   ]
  },
  {
   "cell_type": "code",
   "execution_count": 76,
   "metadata": {
    "slideshow": {
     "slide_type": "fragment"
    }
   },
   "outputs": [
    {
     "name": "stdout",
     "output_type": "stream",
     "text": [
      "hello world\n"
     ]
    }
   ],
   "source": [
    "print(\"hello world\")"
   ]
  },
  {
   "cell_type": "code",
   "execution_count": 77,
   "metadata": {
    "slideshow": {
     "slide_type": "fragment"
    }
   },
   "outputs": [],
   "source": [
    "print = evil_print"
   ]
  },
  {
   "cell_type": "code",
   "execution_count": 78,
   "metadata": {
    "slideshow": {
     "slide_type": "fragment"
    }
   },
   "outputs": [
    {
     "data": {
      "text/plain": [
       "'(͠≖ ͜ʖ͠≖)'"
      ]
     },
     "execution_count": 78,
     "metadata": {},
     "output_type": "execute_result"
    }
   ],
   "source": [
    "print(\"hello world\")"
   ]
  },
  {
   "cell_type": "code",
   "execution_count": 79,
   "metadata": {
    "slideshow": {
     "slide_type": "skip"
    }
   },
   "outputs": [],
   "source": [
    "print = orig_print"
   ]
  },
  {
   "cell_type": "markdown",
   "metadata": {
    "slideshow": {
     "slide_type": "slide"
    }
   },
   "source": [
    "# Everything can be modified: But why?"
   ]
  },
  {
   "cell_type": "markdown",
   "metadata": {
    "slideshow": {
     "slide_type": "fragment"
    }
   },
   "source": [
    "- monkey patching can help if you *really* need to modify 3rd code (e.g. bug-fix)"
   ]
  },
  {
   "cell_type": "markdown",
   "metadata": {
    "slideshow": {
     "slide_type": "fragment"
    }
   },
   "source": [
    "- temporary experiments if you cannot restart the Python process or so"
   ]
  },
  {
   "cell_type": "markdown",
   "metadata": {
    "slideshow": {
     "slide_type": "fragment"
    }
   },
   "source": [
    "- be careful with built-ins (and keywords), syntax high-lighting helps"
   ]
  },
  {
   "cell_type": "code",
   "execution_count": 80,
   "metadata": {
    "slideshow": {
     "slide_type": "skip"
    }
   },
   "outputs": [],
   "source": [
    "orig_list = list"
   ]
  },
  {
   "cell_type": "code",
   "execution_count": 81,
   "metadata": {},
   "outputs": [],
   "source": [
    "list = list((1,2,3))"
   ]
  },
  {
   "cell_type": "code",
   "execution_count": 82,
   "metadata": {},
   "outputs": [
    {
     "data": {
      "text/plain": [
       "[1, 2, 3]"
      ]
     },
     "execution_count": 82,
     "metadata": {},
     "output_type": "execute_result"
    }
   ],
   "source": [
    "list"
   ]
  },
  {
   "cell_type": "code",
   "execution_count": 83,
   "metadata": {
    "slideshow": {
     "slide_type": "skip"
    }
   },
   "outputs": [],
   "source": [
    "list = orig_list"
   ]
  },
  {
   "cell_type": "markdown",
   "metadata": {
    "slideshow": {
     "slide_type": "slide"
    }
   },
   "source": [
    "# Really everything can be modified?\n",
    "\n",
    "<img src=\"images/asterix-gaul.png\" style=\"height:500px;\">"
   ]
  },
  {
   "cell_type": "markdown",
   "metadata": {
    "slideshow": {
     "slide_type": "subslide"
    }
   },
   "source": [
    "# Immutable types and the traps of mutability\n",
    "\n",
    "immutable types:\n",
    "\n",
    "``str, int, float, tuple, frozenset, NoneType``\n",
    "\n",
    "almost everything else is mutable, especially:\n",
    "\n",
    "``list, dict``"
   ]
  },
  {
   "cell_type": "markdown",
   "metadata": {},
   "source": [
    "<small>See also: https://docs.python.org/3/reference/datamodel.html</small>"
   ]
  },
  {
   "cell_type": "markdown",
   "metadata": {
    "slideshow": {
     "slide_type": "subslide"
    }
   },
   "source": [
    "# Immutable types and the traps of mutability"
   ]
  },
  {
   "cell_type": "code",
   "execution_count": 84,
   "metadata": {},
   "outputs": [],
   "source": [
    "def extend_list(element, l=[]):\n",
    "    l.append(element)\n",
    "    return l"
   ]
  },
  {
   "cell_type": "code",
   "execution_count": 85,
   "metadata": {
    "slideshow": {
     "slide_type": "fragment"
    },
    "tags": [
     "clear"
    ]
   },
   "outputs": [
    {
     "data": {
      "text/plain": [
       "[1, 2, 3, 4]"
      ]
     },
     "execution_count": 85,
     "metadata": {},
     "output_type": "execute_result"
    }
   ],
   "source": [
    "extend_list(4, [1,2,3])"
   ]
  },
  {
   "cell_type": "code",
   "execution_count": 86,
   "metadata": {
    "slideshow": {
     "slide_type": "fragment"
    },
    "tags": [
     "clear"
    ]
   },
   "outputs": [
    {
     "data": {
      "text/plain": [
       "[1]"
      ]
     },
     "execution_count": 86,
     "metadata": {},
     "output_type": "execute_result"
    }
   ],
   "source": [
    "extend_list(1)"
   ]
  },
  {
   "cell_type": "code",
   "execution_count": 87,
   "metadata": {
    "slideshow": {
     "slide_type": "fragment"
    },
    "tags": [
     "clear"
    ]
   },
   "outputs": [
    {
     "data": {
      "text/plain": [
       "[1, 1]"
      ]
     },
     "execution_count": 87,
     "metadata": {},
     "output_type": "execute_result"
    }
   ],
   "source": [
    "extend_list(1)"
   ]
  },
  {
   "cell_type": "markdown",
   "metadata": {
    "slideshow": {
     "slide_type": "subslide"
    }
   },
   "source": [
    "# Immutable types and the traps of mutability"
   ]
  },
  {
   "cell_type": "markdown",
   "metadata": {},
   "source": [
    "Never use mutable objects as default arguments and avoid modifying input parameters (unless you need to avoid copying a kit of data)."
   ]
  },
  {
   "cell_type": "code",
   "execution_count": 88,
   "metadata": {},
   "outputs": [],
   "source": [
    "def extend_list(element, l=None):\n",
    "    if l is None:\n",
    "        l = []  # note that l is not modyfied, but a new object is assigned\n",
    "    l.append(element)\n",
    "    return l"
   ]
  },
  {
   "cell_type": "markdown",
   "metadata": {
    "slideshow": {
     "slide_type": "slide"
    }
   },
   "source": [
    "# Scope: Packages, Modules, Classes and Functions\n",
    "\n",
    "Quiz: valid Python code?"
   ]
  },
  {
   "cell_type": "code",
   "execution_count": 89,
   "metadata": {
    "slideshow": {
     "slide_type": "fragment"
    }
   },
   "outputs": [],
   "source": [
    "for i in range(3):\n",
    "    def meaning(n):\n",
    "        return 42"
   ]
  },
  {
   "cell_type": "code",
   "execution_count": 90,
   "metadata": {
    "slideshow": {
     "slide_type": "fragment"
    }
   },
   "outputs": [],
   "source": [
    "class Life:\n",
    "    for i in range(3):\n",
    "        def meaning(n):\n",
    "            return 42"
   ]
  },
  {
   "cell_type": "code",
   "execution_count": 91,
   "metadata": {
    "slideshow": {
     "slide_type": "fragment"
    }
   },
   "outputs": [],
   "source": [
    "for i in range(3):\n",
    "    class Life:\n",
    "        for i in range(3):\n",
    "            def meaning(n):\n",
    "                return 42"
   ]
  },
  {
   "cell_type": "markdown",
   "metadata": {},
   "source": [
    "https://docs.python.org/3/reference/executionmodel.html"
   ]
  },
  {
   "cell_type": "markdown",
   "metadata": {
    "slideshow": {
     "slide_type": "slide"
    }
   },
   "source": [
    "# Scope: Packages, Modules, Classes and Functions\n",
    "\n",
    "Quiz: order of execution - what will happen here?"
   ]
  },
  {
   "cell_type": "code",
   "execution_count": 92,
   "metadata": {
    "tags": [
     "clear"
    ]
   },
   "outputs": [
    {
     "ename": "NameError",
     "evalue": "name 'print_meaning' is not defined",
     "output_type": "error",
     "traceback": [
      "\u001b[0;31m---------------------------------------------------------------------------\u001b[0m",
      "\u001b[0;31mNameError\u001b[0m                                 Traceback (most recent call last)",
      "\u001b[0;32m<ipython-input-92-33ceca181ff9>\u001b[0m in \u001b[0;36m<module>\u001b[0;34m\u001b[0m\n\u001b[0;32m----> 1\u001b[0;31m \u001b[0mprint_meaning\u001b[0m\u001b[0;34m(\u001b[0m\u001b[0;34m)\u001b[0m\u001b[0;34m\u001b[0m\u001b[0;34m\u001b[0m\u001b[0m\n\u001b[0m\u001b[1;32m      2\u001b[0m \u001b[0;34m\u001b[0m\u001b[0m\n\u001b[1;32m      3\u001b[0m \u001b[0;32mdef\u001b[0m \u001b[0mprint_meaning\u001b[0m\u001b[0;34m(\u001b[0m\u001b[0;34m)\u001b[0m\u001b[0;34m:\u001b[0m\u001b[0;34m\u001b[0m\u001b[0;34m\u001b[0m\u001b[0m\n\u001b[1;32m      4\u001b[0m     \u001b[0mprint\u001b[0m\u001b[0;34m(\u001b[0m\u001b[0;36m42\u001b[0m\u001b[0;34m)\u001b[0m\u001b[0;34m\u001b[0m\u001b[0;34m\u001b[0m\u001b[0m\n",
      "\u001b[0;31mNameError\u001b[0m: name 'print_meaning' is not defined"
     ]
    }
   ],
   "source": [
    "print_meaning()\n",
    "\n",
    "def print_meaning():\n",
    "    print(42)"
   ]
  },
  {
   "cell_type": "code",
   "execution_count": 93,
   "metadata": {
    "slideshow": {
     "slide_type": "fragment"
    }
   },
   "outputs": [
    {
     "name": "stdout",
     "output_type": "stream",
     "text": [
      "42\n"
     ]
    }
   ],
   "source": [
    "def call_print_meaning():\n",
    "    print_meaning()\n",
    "\n",
    "def print_meaning():\n",
    "    print(42)\n",
    "    \n",
    "print_meaning()"
   ]
  },
  {
   "cell_type": "markdown",
   "metadata": {
    "slideshow": {
     "slide_type": "subslide"
    }
   },
   "source": [
    "# Scope: Packages, Modules, Classes and Functions\n",
    "\n",
    "Quiz: order of execution - what will happen here?"
   ]
  },
  {
   "cell_type": "code",
   "execution_count": 94,
   "metadata": {
    "slideshow": {
     "slide_type": "fragment"
    }
   },
   "outputs": [],
   "source": [
    "def some_function():\n",
    "    print(not_defined_variable + 2)"
   ]
  },
  {
   "cell_type": "markdown",
   "metadata": {
    "slideshow": {
     "slide_type": "subslide"
    }
   },
   "source": [
    "# Scope: Packages, Modules, Classes and Functions"
   ]
  },
  {
   "cell_type": "code",
   "execution_count": 95,
   "metadata": {
    "slideshow": {
     "slide_type": ""
    }
   },
   "outputs": [],
   "source": [
    "MY_CONSTANT = 42\n",
    "\n",
    "def some_function():\n",
    "    fancy_calculation = 1 * MY_CONSTANT\n",
    "    return fancy_calculation"
   ]
  },
  {
   "cell_type": "code",
   "execution_count": 96,
   "metadata": {
    "slideshow": {
     "slide_type": "fragment"
    }
   },
   "outputs": [
    {
     "data": {
      "text/plain": [
       "42"
      ]
     },
     "execution_count": 96,
     "metadata": {},
     "output_type": "execute_result"
    }
   ],
   "source": [
    "some_function()"
   ]
  },
  {
   "cell_type": "markdown",
   "metadata": {
    "slideshow": {
     "slide_type": "subslide"
    }
   },
   "source": [
    "# Scope: Packages, Modules, Classes and Functions"
   ]
  },
  {
   "cell_type": "code",
   "execution_count": 97,
   "metadata": {},
   "outputs": [],
   "source": [
    "MY_CONSTANT = 42\n",
    "\n",
    "def some_function():\n",
    "    fancy_calculation = 1 * MY_CONSTANT\n",
    "    \n",
    "    def inner_function():\n",
    "        return 0.5 * fancy_calculation\n",
    "    \n",
    "    fancy_calculation = inner_function()\n",
    "    return fancy_calculation"
   ]
  },
  {
   "cell_type": "code",
   "execution_count": 98,
   "metadata": {
    "slideshow": {
     "slide_type": "fragment"
    }
   },
   "outputs": [
    {
     "data": {
      "text/plain": [
       "21.0"
      ]
     },
     "execution_count": 98,
     "metadata": {},
     "output_type": "execute_result"
    }
   ],
   "source": [
    "some_function()"
   ]
  },
  {
   "cell_type": "markdown",
   "metadata": {
    "slideshow": {
     "slide_type": "subslide"
    }
   },
   "source": [
    "# Scope: Packages, Modules, Classes and Functions"
   ]
  },
  {
   "cell_type": "code",
   "execution_count": 99,
   "metadata": {
    "slideshow": {
     "slide_type": "fragment"
    }
   },
   "outputs": [
    {
     "data": {
      "text/plain": [
       "[1]"
      ]
     },
     "execution_count": 99,
     "metadata": {},
     "output_type": "execute_result"
    }
   ],
   "source": [
    "some_list = []\n",
    "\n",
    "def extend_list(n):\n",
    "    some_list.append(n)\n",
    "    return some_list\n",
    "\n",
    "extend_list(1)"
   ]
  },
  {
   "cell_type": "code",
   "execution_count": 100,
   "metadata": {
    "slideshow": {
     "slide_type": "fragment"
    },
    "tags": [
     "clear"
    ]
   },
   "outputs": [
    {
     "ename": "UnboundLocalError",
     "evalue": "local variable 'some_list' referenced before assignment",
     "output_type": "error",
     "traceback": [
      "\u001b[0;31m---------------------------------------------------------------------------\u001b[0m",
      "\u001b[0;31mUnboundLocalError\u001b[0m                         Traceback (most recent call last)",
      "\u001b[0;32m<ipython-input-100-18e1abc6f3db>\u001b[0m in \u001b[0;36m<module>\u001b[0;34m\u001b[0m\n\u001b[1;32m      8\u001b[0m     \u001b[0;32mreturn\u001b[0m \u001b[0msome_list\u001b[0m\u001b[0;34m\u001b[0m\u001b[0;34m\u001b[0m\u001b[0m\n\u001b[1;32m      9\u001b[0m \u001b[0;34m\u001b[0m\u001b[0m\n\u001b[0;32m---> 10\u001b[0;31m \u001b[0mextend_list\u001b[0m\u001b[0;34m(\u001b[0m\u001b[0;36m1\u001b[0m\u001b[0;34m)\u001b[0m\u001b[0;34m\u001b[0m\u001b[0;34m\u001b[0m\u001b[0m\n\u001b[0m",
      "\u001b[0;32m<ipython-input-100-18e1abc6f3db>\u001b[0m in \u001b[0;36mextend_list\u001b[0;34m(n)\u001b[0m\n\u001b[1;32m      2\u001b[0m \u001b[0;34m\u001b[0m\u001b[0m\n\u001b[1;32m      3\u001b[0m \u001b[0;32mdef\u001b[0m \u001b[0mextend_list\u001b[0m\u001b[0;34m(\u001b[0m\u001b[0mn\u001b[0m\u001b[0;34m)\u001b[0m\u001b[0;34m:\u001b[0m\u001b[0;34m\u001b[0m\u001b[0;34m\u001b[0m\u001b[0m\n\u001b[0;32m----> 4\u001b[0;31m     \u001b[0msome_list\u001b[0m\u001b[0;34m.\u001b[0m\u001b[0mappend\u001b[0m\u001b[0;34m(\u001b[0m\u001b[0mn\u001b[0m\u001b[0;34m)\u001b[0m\u001b[0;34m\u001b[0m\u001b[0;34m\u001b[0m\u001b[0m\n\u001b[0m\u001b[1;32m      5\u001b[0m     \u001b[0;32mif\u001b[0m \u001b[0mlen\u001b[0m\u001b[0;34m(\u001b[0m\u001b[0msome_list\u001b[0m\u001b[0;34m)\u001b[0m \u001b[0;34m>\u001b[0m \u001b[0;36m3\u001b[0m\u001b[0;34m:\u001b[0m\u001b[0;34m\u001b[0m\u001b[0;34m\u001b[0m\u001b[0m\n\u001b[1;32m      6\u001b[0m         \u001b[0;31m# too long...\u001b[0m\u001b[0;34m\u001b[0m\u001b[0;34m\u001b[0m\u001b[0;34m\u001b[0m\u001b[0m\n",
      "\u001b[0;31mUnboundLocalError\u001b[0m: local variable 'some_list' referenced before assignment"
     ]
    }
   ],
   "source": [
    "some_list = []\n",
    "\n",
    "def extend_list(n):\n",
    "    some_list.append(n)\n",
    "    if len(some_list) > 3:\n",
    "        # too long...\n",
    "        some_list = []\n",
    "    return some_list\n",
    "\n",
    "extend_list(1)"
   ]
  },
  {
   "cell_type": "markdown",
   "metadata": {
    "slideshow": {
     "slide_type": "subslide"
    }
   },
   "source": [
    "# Scope: Packages, Modules, Classes and Functions"
   ]
  },
  {
   "cell_type": "code",
   "execution_count": null,
   "metadata": {},
   "outputs": [],
   "source": [
    "a = 3\n",
    "\n",
    "class A:\n",
    "    a = a + 2\n",
    "    a = a + 1\n",
    "    b = a"
   ]
  },
  {
   "cell_type": "code",
   "execution_count": null,
   "metadata": {
    "slideshow": {
     "slide_type": "fragment"
    }
   },
   "outputs": [],
   "source": [
    "a, A.a, A.b"
   ]
  },
  {
   "cell_type": "markdown",
   "metadata": {
    "slideshow": {
     "slide_type": "subslide"
    }
   },
   "source": [
    "# Scope: Packages, Modules, Classes and Functions"
   ]
  },
  {
   "cell_type": "code",
   "execution_count": null,
   "metadata": {
    "slideshow": {
     "slide_type": ""
    }
   },
   "outputs": [],
   "source": [
    "class B:\n",
    "    a = 42\n",
    "    b = tuple(a + i for i in range(10))"
   ]
  },
  {
   "cell_type": "code",
   "execution_count": null,
   "metadata": {
    "slideshow": {
     "slide_type": "fragment"
    }
   },
   "outputs": [],
   "source": [
    "a, B.a"
   ]
  },
  {
   "cell_type": "code",
   "execution_count": null,
   "metadata": {
    "slideshow": {
     "slide_type": "fragment"
    }
   },
   "outputs": [],
   "source": [
    "B.b"
   ]
  },
  {
   "cell_type": "markdown",
   "metadata": {
    "slideshow": {
     "slide_type": "fragment"
    }
   },
   "source": [
    "See also: https://docs.python.org/3.3/reference/executionmodel.html"
   ]
  },
  {
   "cell_type": "markdown",
   "metadata": {
    "slideshow": {
     "slide_type": "subslide"
    }
   },
   "source": [
    "# Scope: Packages, Modules, Classes and Functions\n",
    "\n",
    "- a name (=variable) is defined in a module, a class or a function\n",
    "- names in functions are *only* visible inside this function\n",
    "- names in modules are (directly) visible inside the module\n",
    "- names in classes are not (directly) visible inside methods\n",
    "- names in modules and classes can be accessed from outside via `module_name.variable` or `class_name.variable`"
   ]
  },
  {
   "cell_type": "markdown",
   "metadata": {
    "slideshow": {
     "slide_type": "subslide"
    }
   },
   "source": [
    "# Scope: Packages, Modules, Classes and Functions\n",
    "\n",
    "If you write a script, use a main() function to avoid to make variables local:"
   ]
  },
  {
   "cell_type": "code",
   "execution_count": null,
   "metadata": {},
   "outputs": [],
   "source": [
    "MY_CONSTANTS = 42\n",
    "\n",
    "def main():\n",
    "    # fancy script code\n",
    "    some_local_variable = 3\n",
    "    ...\n",
    "    \n",
    "if __name__ == '__main__':\n",
    "    main()"
   ]
  },
  {
   "cell_type": "markdown",
   "metadata": {
    "slideshow": {
     "slide_type": "slide"
    }
   },
   "source": [
    "# Imports"
   ]
  },
  {
   "cell_type": "markdown",
   "metadata": {},
   "source": [
    "Looks for `logging.py` or `logging/__init__.py` in the `PYTHONPATH`, runs it, creates a module object and assings it to `logging`:"
   ]
  },
  {
   "cell_type": "code",
   "execution_count": null,
   "metadata": {},
   "outputs": [],
   "source": [
    "import logging"
   ]
  },
  {
   "cell_type": "code",
   "execution_count": null,
   "metadata": {
    "slideshow": {
     "slide_type": "fragment"
    }
   },
   "outputs": [],
   "source": [
    "from logging import getLogger"
   ]
  },
  {
   "cell_type": "markdown",
   "metadata": {
    "slideshow": {
     "slide_type": ""
    }
   },
   "source": [
    "...is mostly equivalent to:"
   ]
  },
  {
   "cell_type": "code",
   "execution_count": null,
   "metadata": {},
   "outputs": [],
   "source": [
    "import logging\n",
    "getLogger = logging.getLogger"
   ]
  },
  {
   "cell_type": "markdown",
   "metadata": {
    "slideshow": {
     "slide_type": "slide"
    }
   },
   "source": [
    "# Questions?"
   ]
  },
  {
   "cell_type": "markdown",
   "metadata": {
    "slideshow": {
     "slide_type": "slide"
    }
   },
   "source": [
    "# Exercise: \n",
    "\n",
    "Choose:\n",
    "\n",
    "- Write a terrible confusing script/function/whatever by modifying something you shouldn't modify! (e.g. slow down time by a factor 2, name a list `list`, let a built-in function return something surprising, ...)\n",
    "- Write a function using a dunder function `__<some name>__` doing something very useful or something very evil!\n",
    "- List use cases: when does it make sense to modify something? Which objects should never be modified?"
   ]
  },
  {
   "cell_type": "markdown",
   "metadata": {
    "slideshow": {
     "slide_type": "slide"
    }
   },
   "source": [
    "# Exceptions and tracebacks"
   ]
  },
  {
   "cell_type": "code",
   "execution_count": 101,
   "metadata": {},
   "outputs": [
    {
     "ename": "Exception",
     "evalue": "something bad happened",
     "output_type": "error",
     "traceback": [
      "\u001b[0;31m---------------------------------------------------------------------------\u001b[0m",
      "\u001b[0;31mException\u001b[0m                                 Traceback (most recent call last)",
      "\u001b[0;32m<ipython-input-101-41c2198aad14>\u001b[0m in \u001b[0;36m<module>\u001b[0;34m\u001b[0m\n\u001b[0;32m----> 1\u001b[0;31m \u001b[0;32mraise\u001b[0m \u001b[0mException\u001b[0m\u001b[0;34m(\u001b[0m\u001b[0;34m\"something bad happened\"\u001b[0m\u001b[0;34m)\u001b[0m\u001b[0;34m\u001b[0m\u001b[0;34m\u001b[0m\u001b[0m\n\u001b[0m",
      "\u001b[0;31mException\u001b[0m: something bad happened"
     ]
    }
   ],
   "source": [
    "raise Exception(\"something bad happened\")"
   ]
  },
  {
   "cell_type": "markdown",
   "metadata": {
    "slideshow": {
     "slide_type": "fragment"
    }
   },
   "source": [
    "<small>Source:\n",
    "https://docs.python.org/3/library/exceptions.html, \n",
    "https://docs.python.org/3/tutorial/errors.html</small>"
   ]
  },
  {
   "cell_type": "markdown",
   "metadata": {
    "slideshow": {
     "slide_type": "subslide"
    }
   },
   "source": [
    "# Exceptions and tracebacks\n",
    "\n",
    "Exception chaining is powerful to avoid loosing the original cause:"
   ]
  },
  {
   "cell_type": "code",
   "execution_count": null,
   "metadata": {
    "slideshow": {
     "slide_type": "-"
    },
    "tags": [
     "clear"
    ]
   },
   "outputs": [],
   "source": [
    "some_list = [1,2]\n",
    "try:\n",
    "    some_list[4] = 42\n",
    "except Exception as e:\n",
    "    raise RuntimeError(\"Failed to append meaning of life\") from e"
   ]
  },
  {
   "cell_type": "markdown",
   "metadata": {
    "slideshow": {
     "slide_type": "subslide"
    }
   },
   "source": [
    "# Exceptions and tracebacks"
   ]
  },
  {
   "cell_type": "code",
   "execution_count": null,
   "metadata": {
    "tags": [
     "clear"
    ]
   },
   "outputs": [],
   "source": [
    "try:\n",
    "    1/0\n",
    "finally:\n",
    "    print(\"before everything explodes: 🎉\")"
   ]
  },
  {
   "cell_type": "markdown",
   "metadata": {
    "slideshow": {
     "slide_type": "subslide"
    }
   },
   "source": [
    "# Exceptions and tracebacks"
   ]
  },
  {
   "cell_type": "code",
   "execution_count": null,
   "metadata": {
    "slideshow": {
     "slide_type": ""
    },
    "tags": [
     "clear"
    ]
   },
   "outputs": [],
   "source": [
    "with open('turbine_models.csv') as f:\n",
    "    1/0"
   ]
  },
  {
   "cell_type": "code",
   "execution_count": null,
   "metadata": {
    "slideshow": {
     "slide_type": "fragment"
    },
    "tags": [
     "clear"
    ]
   },
   "outputs": [],
   "source": [
    "f.closed"
   ]
  },
  {
   "cell_type": "markdown",
   "metadata": {
    "slideshow": {
     "slide_type": "subslide"
    }
   },
   "source": [
    "# Exceptions and tracebacks\n",
    "\n",
    "- errors should never pass silently, make good error messages including parameters\n",
    "- exceptions can be any object, but should better inherit from Exception\n",
    "- KeyboardError does not inherit from Exception and won't be caught by `except Exception`"
   ]
  },
  {
   "cell_type": "markdown",
   "metadata": {
    "slideshow": {
     "slide_type": "slide"
    }
   },
   "source": [
    "# Debuggers"
   ]
  },
  {
   "cell_type": "markdown",
   "metadata": {
    "slideshow": {
     "slide_type": "fragment"
    }
   },
   "source": [
    "Debuggers help to inspect the inside of code. This can be useful for when searching for a bug, but also if you want to understand what a particular piece of code does."
   ]
  },
  {
   "cell_type": "markdown",
   "metadata": {
    "slideshow": {
     "slide_type": "fragment"
    }
   },
   "source": [
    "There are [many debuggers for Python](https://wiki.python.org/moin/PythonDebuggingTools):\n",
    "\n",
    "- [pdb](https://docs.python.org/3/library/pdb.html): shipped with the Python standard libary\n",
    "- [ipdb](https://github.com/gotcha/ipdb): tab completion, syntax highlighting, debugger for IPython\n",
    "- PyCharm inlcudes a graphical debugger\n",
    "- [pdb++](https://github.com/antocuni/pdb): similar to ipdb\n",
    "- ..."
   ]
  },
  {
   "cell_type": "markdown",
   "metadata": {
    "slideshow": {
     "slide_type": "subslide"
    }
   },
   "source": [
    "One can inject code in a running process:\n",
    " - [pyrasite](http://pyrasite.com/)\n",
    " - [pyringe](https://github.com/google/pyringe)\n",
    " - ...\n",
    " \n",
    " (Very helpful to debug dead locks and memory leaks!)"
   ]
  },
  {
   "cell_type": "markdown",
   "metadata": {
    "slideshow": {
     "slide_type": "subslide"
    }
   },
   "source": [
    "# Let's debug something!"
   ]
  },
  {
   "cell_type": "markdown",
   "metadata": {},
   "source": [
    "Invoke the debugger via break point in code:"
   ]
  },
  {
   "cell_type": "code",
   "execution_count": null,
   "metadata": {},
   "outputs": [],
   "source": [
    "import pdb; pdb.set_trace()"
   ]
  },
  {
   "cell_type": "code",
   "execution_count": null,
   "metadata": {},
   "outputs": [],
   "source": [
    "import ipdb; ipdb.set_trace()   # does not work in Jupyter notebooks"
   ]
  },
  {
   "cell_type": "code",
   "execution_count": null,
   "metadata": {},
   "outputs": [],
   "source": [
    "breakpoint()  # for Python >= 3.7"
   ]
  },
  {
   "cell_type": "markdown",
   "metadata": {
    "slideshow": {
     "slide_type": "subslide"
    }
   },
   "source": [
    "# Let's debug something!"
   ]
  },
  {
   "cell_type": "markdown",
   "metadata": {},
   "source": [
    "Invoke debugger by calling the script from the debugger:\n",
    "\n",
    "```\n",
    "$ ipdb my_module.py  # ipdb3 (for Python 3) on some platforms\n",
    "> /tmp/test.py(2)<module>()\n",
    "      1 \"\"\"This is my_module.py\n",
    "----> 2 \"\"\"\n",
    "      3 \n",
    "\n",
    "ipdb>\n",
    "```\n",
    "\n",
    "$\\Rightarrow$ opens debugger after the first line of code and after every exception (\"post-mortem\")"
   ]
  },
  {
   "cell_type": "markdown",
   "metadata": {
    "slideshow": {
     "slide_type": "subslide"
    }
   },
   "source": [
    "# Let's debug something!"
   ]
  },
  {
   "cell_type": "markdown",
   "metadata": {},
   "source": [
    "- program flow is interrupted (current thread/process)\n",
    "- debugger prompt `ipdb>` acts like a Python terminal with additional commands\n",
    "- inspect or continue program flow by using debugger commands"
   ]
  },
  {
   "cell_type": "markdown",
   "metadata": {
    "slideshow": {
     "slide_type": "subslide"
    }
   },
   "source": [
    "# Debugger commands\n",
    "\n",
    "- **w(here)** Print a stack trace\n",
    "- **d(own)** Move the current frame one level down in the stack trace\n",
    "- **u(p)** Move the current frame one level up in the stack trace\n",
    "- **b(reak) [[filename:]lineno | function[, condition]]** set a new break point\n",
    "- **c(ontinue)** continue execution until next break point is hit\n",
    "- **n(ext)** execute line and jump to next line\n",
    "- **s(tep)** step inside a function\n",
    "- **l(ist) [first[, last]]** list source code of current file (from line `first` to line `last`)"
   ]
  },
  {
   "cell_type": "markdown",
   "metadata": {
    "slideshow": {
     "slide_type": "subslide"
    }
   },
   "source": [
    "# Questions?"
   ]
  },
  {
   "cell_type": "markdown",
   "metadata": {
    "slideshow": {
     "slide_type": "subslide"
    }
   },
   "source": [
    "# Exercise: debug something!\n",
    "\n",
    "<br>\n",
    "\n",
    "<div style=\"font-size:larger;\">Investigate code you are not very familiar with using ipdb!</div>\n",
    "\n",
    "Suggestions:\n",
    "- `np.linalg.norm`\n",
    "- https://github.com/lumbric/lunchbot\n",
    "- `logging` (e.g. `debug-logging-basicConfig.py`)\n",
    "- `exmachina.py`\n",
    "\n",
    "This time, *not* your own code! :)"
   ]
  },
  {
   "cell_type": "markdown",
   "metadata": {
    "slideshow": {
     "slide_type": "slide"
    }
   },
   "source": [
    "# Tests\n",
    "\n",
    "- unit tests\n",
    "- integration tests\n",
    "- functional tests"
   ]
  },
  {
   "cell_type": "markdown",
   "metadata": {
    "slideshow": {
     "slide_type": "fragment"
    }
   },
   "source": [
    "![asdf](images/unittest-integrationtest.gif)"
   ]
  },
  {
   "cell_type": "markdown",
   "metadata": {
    "slideshow": {
     "slide_type": "subslide"
    }
   },
   "source": [
    "# Tests: Example"
   ]
  },
  {
   "cell_type": "code",
   "execution_count": null,
   "metadata": {
    "slideshow": {
     "slide_type": "fragment"
    }
   },
   "outputs": [],
   "source": [
    "def fibonacci_sequence(n):\n",
    "    \"\"\"Return a list of all Fibbonacci numbers up to the n-th Fibonacci number.\"\"\"\n",
    "    # FIXME don't use this function in real life\n",
    "    if n == 1:\n",
    "        return [0]\n",
    "    elif n == 2:\n",
    "        return [0, 1]\n",
    "    sequence = fibonacci_sequence(n-1)\n",
    "    return sequence + [sequence[-2] + sequence[-1]]"
   ]
  },
  {
   "cell_type": "code",
   "execution_count": null,
   "metadata": {
    "slideshow": {
     "slide_type": "fragment"
    }
   },
   "outputs": [],
   "source": [
    "fibonacci_sequence(6)"
   ]
  },
  {
   "cell_type": "markdown",
   "metadata": {
    "slideshow": {
     "slide_type": "subslide"
    }
   },
   "source": [
    "# Tests: Example"
   ]
  },
  {
   "cell_type": "code",
   "execution_count": null,
   "metadata": {
    "slideshow": {
     "slide_type": "fragment"
    }
   },
   "outputs": [],
   "source": [
    "def test_fibonacci_sequence():\n",
    "    assert fibonacci_sequence(1) == [0]\n",
    "    assert isinstance(fibonacci_sequence(4), list)\n",
    "    assert fibonacci_sequence(7)[-1] == 8"
   ]
  },
  {
   "cell_type": "code",
   "execution_count": null,
   "metadata": {
    "slideshow": {
     "slide_type": "fragment"
    }
   },
   "outputs": [],
   "source": [
    "test_fibonacci_sequence()"
   ]
  },
  {
   "cell_type": "markdown",
   "metadata": {
    "slideshow": {
     "slide_type": "subslide"
    }
   },
   "source": [
    "# Tests: test runner\n",
    "\n",
    "- [py.test](https://pytest.org/)\n",
    "- nosetests\n",
    "- doctests\n",
    "- many plugins: coverage, watch, ..."
   ]
  },
  {
   "cell_type": "markdown",
   "metadata": {
    "slideshow": {
     "slide_type": "subslide"
    }
   },
   "source": [
    "# Tests: doctest"
   ]
  },
  {
   "cell_type": "code",
   "execution_count": null,
   "metadata": {
    "slideshow": {
     "slide_type": "fragment"
    }
   },
   "outputs": [],
   "source": [
    "\"\"\"This is a docstring.\n",
    "\n",
    "Example\n",
    "-------\n",
    "\n",
    ">>> 1 + 1\n",
    "2\n",
    "\n",
    "\"\"\""
   ]
  },
  {
   "cell_type": "markdown",
   "metadata": {
    "slideshow": {
     "slide_type": "subslide"
    }
   },
   "source": [
    "# Tests: Continuous Integration\n",
    "\n",
    "Continuous integration (CI) runs your tests automatically:\n",
    "- [Travis CI](https://travis-ci.com/) (note: travis-ci.com and travis-ci.org are different)\n",
    "- [Gitlab](https://about.gitlab.com/)\n",
    "- [Jenkins](https://jenkins.io/)"
   ]
  },
  {
   "cell_type": "markdown",
   "metadata": {
    "slideshow": {
     "slide_type": "subslide"
    }
   },
   "source": [
    "# Tests: libraries\n",
    "\n",
    "Libraries for writing tests:\n",
    "- [hypothesis](https://github.com/HypothesisWorks/hypothesis): helps to test the whole parameter space\n",
    "- [mock](https://docs.python.org/3/library/unittest.mock.html): change parts of your code which you can't test"
   ]
  },
  {
   "cell_type": "markdown",
   "metadata": {
    "slideshow": {
     "slide_type": "subslide"
    }
   },
   "source": [
    "# Tests: corner cases\n",
    "\n",
    "<img src=\"images/qa-engineer-joke.png\" style=\"height:500px;\">\n",
    "\n",
    "<small>Source: https://twitter.com/brenankeller/status/1068615953989087232</small>"
   ]
  },
  {
   "cell_type": "markdown",
   "metadata": {
    "slideshow": {
     "slide_type": "subslide"
    }
   },
   "source": [
    "# Tests: corner cases"
   ]
  },
  {
   "cell_type": "code",
   "execution_count": null,
   "metadata": {},
   "outputs": [],
   "source": [
    "fibonacci_sequence(0)"
   ]
  },
  {
   "cell_type": "markdown",
   "metadata": {
    "slideshow": {
     "slide_type": "fragment"
    }
   },
   "source": [
    "We forgot to test `fibonacci_sequence()` $n < 1$! Hypothesis helps to catch many important corner cases."
   ]
  },
  {
   "cell_type": "markdown",
   "metadata": {
    "slideshow": {
     "slide_type": "subslide"
    }
   },
   "source": [
    "# Tests: corner cases"
   ]
  },
  {
   "cell_type": "code",
   "execution_count": null,
   "metadata": {
    "slideshow": {
     "slide_type": "-"
    }
   },
   "outputs": [],
   "source": [
    "def fibonacci_sequence(n):\n",
    "    \"\"\"Return a list of all Fibbonacci numbers up to the n-th Fibonacci number.\"\"\"\n",
    "    # FIXME don't use this function in real life\n",
    "    if n == 1:\n",
    "        return [0]\n",
    "    elif n == 2:\n",
    "        return [0, 1]\n",
    "    sequence = fibonacci_sequence(n-1)\n",
    "    return sequence + [sequence[-2] + sequence[-1]]"
   ]
  },
  {
   "cell_type": "markdown",
   "metadata": {
    "slideshow": {
     "slide_type": "subslide"
    }
   },
   "source": [
    "# Questions?"
   ]
  },
  {
   "cell_type": "markdown",
   "metadata": {
    "slideshow": {
     "slide_type": "slide"
    }
   },
   "source": [
    "# Tests: Exercise\n",
    "\n",
    "\n",
    "Write a test testing something and use py.test to run it!\n",
    "\n",
    "Include also wrong tests to see them failing! (This is also good practice in real life.)\n",
    "\n",
    "Suggestions:\n",
    "* `np.piecewise()`, `np.linalg.norm()`, ...\n",
    "* git-game, `lunchbot`, `exmachina`\n",
    "* your own code\n",
    "\n",
    "Bonus: use coverage and/or watch plugins!\n",
    "\n",
    "Additional Bonus: try to find already existing tests for the functions defined."
   ]
  },
  {
   "cell_type": "markdown",
   "metadata": {
    "slideshow": {
     "slide_type": "slide"
    }
   },
   "source": [
    "# Logging\n",
    "\n",
    "Excellent guide: https://docs.python-guide.org/writing/logging/"
   ]
  },
  {
   "cell_type": "markdown",
   "metadata": {
    "slideshow": {
     "slide_type": "-"
    }
   },
   "source": [
    "Libraries may define loggers and emit log messages:"
   ]
  },
  {
   "cell_type": "code",
   "execution_count": null,
   "metadata": {},
   "outputs": [],
   "source": [
    "import logging\n",
    "logging.info('This is interesting, but not critial')\n",
    "\n",
    "LOGGER = logging.getLogger(__name__)\n",
    "LOGGER.critical(\"Uh this is critical %s\", ಠ_ಠ)"
   ]
  },
  {
   "cell_type": "markdown",
   "metadata": {
    "slideshow": {
     "slide_type": "fragment"
    }
   },
   "source": [
    "The application or main script defines handlers and log levels:"
   ]
  },
  {
   "cell_type": "code",
   "execution_count": null,
   "metadata": {},
   "outputs": [],
   "source": [
    "logging.basicConfig(filename='session2.log', level=logging.INFO)"
   ]
  },
  {
   "cell_type": "markdown",
   "metadata": {},
   "source": [
    "Many more options to define handlers and levels: https://docs.python.org/3/howto/logging.html\n",
    "\n",
    "See also `code-samples/logging_config.py`."
   ]
  },
  {
   "cell_type": "markdown",
   "metadata": {
    "slideshow": {
     "slide_type": "slide"
    }
   },
   "source": [
    "# Tips & Tricks"
   ]
  },
  {
   "cell_type": "markdown",
   "metadata": {},
   "source": [
    "Want to look into code, but don't know where the file is?"
   ]
  },
  {
   "cell_type": "code",
   "execution_count": null,
   "metadata": {},
   "outputs": [],
   "source": [
    "import logging\n",
    "logging.__file__"
   ]
  },
  {
   "cell_type": "markdown",
   "metadata": {
    "slideshow": {
     "slide_type": "skip"
    }
   },
   "source": [
    "# Tips & Tricks: IPython"
   ]
  },
  {
   "cell_type": "markdown",
   "metadata": {
    "slideshow": {
     "slide_type": "-"
    }
   },
   "source": [
    "Import numpy and matplotlib:"
   ]
  },
  {
   "cell_type": "code",
   "execution_count": null,
   "metadata": {
    "slideshow": {
     "slide_type": "-"
    }
   },
   "outputs": [],
   "source": [
    "%pylab"
   ]
  },
  {
   "cell_type": "code",
   "execution_count": null,
   "metadata": {
    "slideshow": {
     "slide_type": "-"
    }
   },
   "outputs": [],
   "source": [
    "# for Jupyter notebooks\n",
    "%pylab line\n",
    "\n",
    "# Also nice for interactive plots:\n",
    "#%pylab notebook"
   ]
  },
  {
   "cell_type": "markdown",
   "metadata": {
    "slideshow": {
     "slide_type": "-"
    }
   },
   "source": [
    "https://ipython.readthedocs.io/en/stable/interactive/magics.html"
   ]
  },
  {
   "cell_type": "markdown",
   "metadata": {
    "slideshow": {
     "slide_type": "slide"
    }
   },
   "source": [
    "#  Gotchas: Truthiness (1)"
   ]
  },
  {
   "cell_type": "code",
   "execution_count": null,
   "metadata": {
    "slideshow": {
     "slide_type": "fragment"
    },
    "tags": [
     "clear"
    ]
   },
   "outputs": [],
   "source": [
    "int('10')"
   ]
  },
  {
   "cell_type": "code",
   "execution_count": null,
   "metadata": {
    "slideshow": {
     "slide_type": "fragment"
    },
    "tags": [
     "clear"
    ]
   },
   "outputs": [],
   "source": [
    "float('1.3')"
   ]
  },
  {
   "cell_type": "code",
   "execution_count": null,
   "metadata": {
    "slideshow": {
     "slide_type": "fragment"
    },
    "tags": [
     "clear"
    ]
   },
   "outputs": [],
   "source": [
    "bool('false')"
   ]
  },
  {
   "cell_type": "markdown",
   "metadata": {
    "slideshow": {
     "slide_type": "fragment"
    }
   },
   "source": [
    "Only the empty string is falsy, all other strings are truthy."
   ]
  },
  {
   "cell_type": "markdown",
   "metadata": {
    "slideshow": {
     "slide_type": "slide"
    }
   },
   "source": [
    "#  Gotchas: Truthiness (2)"
   ]
  },
  {
   "cell_type": "code",
   "execution_count": null,
   "metadata": {},
   "outputs": [],
   "source": [
    "def uniform_random(low=None, high=None):\n",
    "    if not low:\n",
    "        low = 0.\n",
    "    if not high:\n",
    "        high = 1.\n",
    "    \n",
    "    if low >= high:\n",
    "        raise ValueError(f\"invalid values for low={low} and \"\n",
    "                         \"high={high}, low < high required\")\n",
    "    \n",
    "    # works only only Linux (and similar platforms), no Windows\n",
    "    with open('/dev/urandom', 'rb') as f:\n",
    "        # TODO one bit is a pretty low resolution, need more?\n",
    "        random_byte = f.read(1)\n",
    "    \n",
    "    return ord(random_byte)/255. * abs(high - low) + low"
   ]
  },
  {
   "cell_type": "code",
   "execution_count": null,
   "metadata": {
    "slideshow": {
     "slide_type": "fragment"
    },
    "tags": [
     "clear"
    ]
   },
   "outputs": [],
   "source": [
    "uniform_random()"
   ]
  },
  {
   "cell_type": "markdown",
   "metadata": {
    "slideshow": {
     "slide_type": "slide"
    }
   },
   "source": [
    "#  Gotchas: Truthiness (2)"
   ]
  },
  {
   "cell_type": "code",
   "execution_count": null,
   "metadata": {
    "slideshow": {
     "slide_type": "fragment"
    },
    "tags": [
     "clear"
    ]
   },
   "outputs": [],
   "source": [
    "uniform_random(-1, 0)"
   ]
  },
  {
   "cell_type": "markdown",
   "metadata": {
    "slideshow": {
     "slide_type": "fragment"
    }
   },
   "source": [
    "Testing on truthiness can be nice, but also dangerous if you don't know exactly all types of allowed objects!"
   ]
  },
  {
   "cell_type": "code",
   "execution_count": null,
   "metadata": {},
   "outputs": [],
   "source": [
    "some_random_values = [uniform_random(-1, 0) for i in range(int(1e5))]\n",
    "_ = hist(some_random_values, density=True)"
   ]
  },
  {
   "cell_type": "markdown",
   "metadata": {
    "slideshow": {
     "slide_type": "slide"
    }
   },
   "source": [
    "#  Gotchas: Tuples (1)"
   ]
  },
  {
   "cell_type": "code",
   "execution_count": null,
   "metadata": {
    "tags": [
     "clear"
    ]
   },
   "outputs": [],
   "source": [
    "for name in ('Alice', 'Bob'):\n",
    "    print('Name:', name)"
   ]
  },
  {
   "cell_type": "code",
   "execution_count": null,
   "metadata": {
    "slideshow": {
     "slide_type": "fragment"
    },
    "tags": [
     "clear"
    ]
   },
   "outputs": [],
   "source": [
    "for name in ('Alice'):\n",
    "    print('Name:', name)"
   ]
  },
  {
   "cell_type": "markdown",
   "metadata": {
    "slideshow": {
     "slide_type": "subslide"
    }
   },
   "source": [
    "#  Gotchas: Tuples (2)"
   ]
  },
  {
   "cell_type": "code",
   "execution_count": null,
   "metadata": {
    "slideshow": {
     "slide_type": "fragment"
    }
   },
   "outputs": [],
   "source": [
    "empty_list = []"
   ]
  },
  {
   "cell_type": "code",
   "execution_count": null,
   "metadata": {
    "slideshow": {
     "slide_type": "fragment"
    }
   },
   "outputs": [],
   "source": [
    "two_empty_lists = [[]]"
   ]
  },
  {
   "cell_type": "code",
   "execution_count": null,
   "metadata": {
    "slideshow": {
     "slide_type": "fragment"
    }
   },
   "outputs": [],
   "source": [
    "two_empty_lists"
   ]
  },
  {
   "cell_type": "code",
   "execution_count": 102,
   "metadata": {
    "slideshow": {
     "slide_type": "fragment"
    }
   },
   "outputs": [],
   "source": [
    "empty_tuple = ()"
   ]
  },
  {
   "cell_type": "code",
   "execution_count": 103,
   "metadata": {
    "slideshow": {
     "slide_type": "fragment"
    }
   },
   "outputs": [],
   "source": [
    "two_empty_tuples = (())"
   ]
  },
  {
   "cell_type": "code",
   "execution_count": 104,
   "metadata": {
    "slideshow": {
     "slide_type": "fragment"
    }
   },
   "outputs": [
    {
     "data": {
      "text/plain": [
       "()"
      ]
     },
     "execution_count": 104,
     "metadata": {},
     "output_type": "execute_result"
    }
   ],
   "source": [
    "two_empty_tuples"
   ]
  },
  {
   "cell_type": "markdown",
   "metadata": {
    "slideshow": {
     "slide_type": "slide"
    }
   },
   "source": [
    "#  Gotchas: Tuples (3)"
   ]
  },
  {
   "cell_type": "code",
   "execution_count": 105,
   "metadata": {},
   "outputs": [
    {
     "data": {
      "text/plain": [
       "(array([[0., 0., 0.],\n",
       "        [0., 0., 0.],\n",
       "        [0., 0., 0.]]),)"
      ]
     },
     "execution_count": 105,
     "metadata": {},
     "output_type": "execute_result"
    }
   ],
   "source": [
    "some_array = np.zeros((3,3)),\n",
    "some_array"
   ]
  },
  {
   "cell_type": "code",
   "execution_count": 106,
   "metadata": {
    "slideshow": {
     "slide_type": "fragment"
    }
   },
   "outputs": [
    {
     "ename": "TypeError",
     "evalue": "can only concatenate tuple (not \"int\") to tuple",
     "output_type": "error",
     "traceback": [
      "\u001b[0;31m---------------------------------------------------------------------------\u001b[0m",
      "\u001b[0;31mTypeError\u001b[0m                                 Traceback (most recent call last)",
      "\u001b[0;32m<ipython-input-106-91c34a8a4b64>\u001b[0m in \u001b[0;36m<module>\u001b[0;34m\u001b[0m\n\u001b[0;32m----> 1\u001b[0;31m \u001b[0msome_array\u001b[0m \u001b[0;34m+\u001b[0m \u001b[0;36m1\u001b[0m\u001b[0;34m\u001b[0m\u001b[0;34m\u001b[0m\u001b[0m\n\u001b[0m",
      "\u001b[0;31mTypeError\u001b[0m: can only concatenate tuple (not \"int\") to tuple"
     ]
    }
   ],
   "source": [
    "some_array + 1"
   ]
  },
  {
   "cell_type": "markdown",
   "metadata": {
    "slideshow": {
     "slide_type": ""
    }
   },
   "source": [
    "A trailing comma can lead to confusing error messages."
   ]
  },
  {
   "cell_type": "markdown",
   "metadata": {
    "slideshow": {
     "slide_type": "slide"
    }
   },
   "source": [
    "#  Gotchas: Tuples (summary)\n",
    "\n",
    "- empty list: **`[]`**\n",
    "- list with one element: **`[42]`** or **`[42,]`**\n",
    "- list with many elements: **`[1,2,3]`** or **`[1,2,3,]`**\n",
    "\n",
    "\n",
    "- empty tuple: **`()`**\n",
    "- list with one element: **`(42,)`** or in some case allowed **`42,`**\n",
    "- list with many elements: **`(1,2,3)`** or **`(1,2,3,)`** or in some cases allowed **`1,2,3`** or **`1,2,3,`**"
   ]
  },
  {
   "cell_type": "markdown",
   "metadata": {
    "slideshow": {
     "slide_type": "slide"
    }
   },
   "source": [
    "# References"
   ]
  }
 ],
 "metadata": {
  "celltoolbar": "Slideshow",
  "kernelspec": {
   "display_name": "Python 3",
   "language": "python",
   "name": "python3"
  },
  "language_info": {
   "codemirror_mode": {
    "name": "ipython",
    "version": 3
   },
   "file_extension": ".py",
   "mimetype": "text/x-python",
   "name": "python",
   "nbconvert_exporter": "python",
   "pygments_lexer": "ipython3",
   "version": "3.6.7"
  },
  "rise": {
   "center": false,
   "controls": false,
   "scroll": true,
   "slideNumber": "c/t",
   "theme": "serif",
   "transition": "none"
  }
 },
 "nbformat": 4,
 "nbformat_minor": 2
}
